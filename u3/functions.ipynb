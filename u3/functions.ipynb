{
 "cells": [
  {
   "cell_type": "markdown",
   "metadata": {},
   "source": [
    "<figure>\n",
    "  <IMG SRC=\"https://upload.wikimedia.org/wikipedia/commons/thumb/d/d5/Fachhochschule_Südwestfalen_20xx_logo.svg/320px-Fachhochschule_Südwestfalen_20xx_logo.svg.png\" WIDTH=250 ALIGN=\"right\">\n",
    "</figure>\n",
    "\n",
    "# Einführung in die Programmierung\n",
    "### Winterersemester 2025/26\n",
    "Prof. Dr. Stefan Goetze"
   ]
  },
  {
   "cell_type": "markdown",
   "metadata": {},
   "source": [
    "# Funktionen\n",
    "\n",
    "Eine Funktion ist eine wiederverwendbare Abfolge von Anweisungen, die eine oder mehrere Eingaben entgegennimmt, bestimmte Operationen ausführt und häufig eine Ausgabe zurückgibt. Python enthält viele integrierte Funktionen wie `print()`, `len()` usw. und bietet die Möglichkeit, neue Funktionen zu definieren.\n",
    "\n",
    "In diesem Notebook wollen wir die Verwendung von Funktionen üben. \n",
    "\n",
    "Python-Funktionen werden mit dem `def` keyword definiert. Zum Beispiel:\n"
   ]
  },
  {
   "cell_type": "code",
   "execution_count": null,
   "metadata": {},
   "outputs": [],
   "source": [
    "def sign(x):\n",
    "    if x > 0:\n",
    "        return 'positive'\n",
    "    elif x < 0:\n",
    "        return 'negative'\n",
    "    else:\n",
    "        return 'zero'\n",
    "\n",
    "for x in [-1, 0, 1]:\n",
    "    print(sign(x))"
   ]
  },
  {
   "cell_type": "markdown",
   "metadata": {},
   "source": [
    "Neben dem Schlüsselworf `def` kennzeichnen die runden Klammern `()` und der Doppelpunkt `:` nach dem Funktionsnamen, dass es sich hier um eine Funktion handelt. Beide sind wesentliche Bestandteile der Syntax. Der *Funktionskörper* (die innerhalb der Funktion auszuführenden Anweisungen) enthält einen eingerückten Anweisungsblock. Die Anweisungen im Funktionskörper werden nicht bei der Funktionsdefinition ausgeführt. Um die Anweisungen auszuführen, muss die Funktion aufgerufen werden.\n",
    "\n",
    "Funktionen können null oder mehrere Werte als *Eingaben* (auch *Argumente* oder *Parameter* genannt) akzeptieren. Argumente ermöglichen es uns, flexible Funktionen zu schreiben, die dieselben Operationen mit verschiedenen Werten durchführen können. Darüber hinaus können Funktionen ein Ergebnis zurückgeben, das in einer Variablen gespeichert oder in anderen Ausdrücken verwendet werden kann.\n",
    "\n",
    "## Optionale Parameter\n",
    "\n",
    "Wir werden oft Funktionen definieren die optionale Argumente benutzen: (`loud` ist optional und `False` ist der Standardwert)"
   ]
  },
  {
   "cell_type": "code",
   "execution_count": null,
   "metadata": {},
   "outputs": [],
   "source": [
    "def hello(name, loud=False):\n",
    "    if loud:\n",
    "        print('HELLO, {}'.format(name.upper()))\n",
    "    else:\n",
    "        print('Hello, {}!'.format(name))\n",
    "\n",
    "hello('Bob')\n",
    "hello('Fred', loud=True)"
   ]
  },
  {
   "cell_type": "markdown",
   "metadata": {},
   "source": [
    "## Positionale Argumente / Parameter vs. benannte Argumente / Parameter\n",
    "\n",
    "**Positionale Argumente** sind die Standardargumente, die der Funktion in einer bestimmten Reihenfolge übergeben werden. Der Wert des ersten Arguments wird dem ersten Parameter zugeordnet, der des zweiten Arguments dem zweiten Parameter und so weiter."
   ]
  },
  {
   "cell_type": "code",
   "execution_count": null,
   "metadata": {},
   "outputs": [],
   "source": [
    "def begruessung(vorname, nachname):\n",
    "    return f\"Hallo, {vorname} {nachname}!\"\n",
    "\n",
    "# Verwendung positionale Argumente\n",
    "print(begruessung(\"Max\", \"Mustermann\"))  # Ausgabe: Hallo, Max Mustermann!"
   ]
  },
  {
   "cell_type": "markdown",
   "metadata": {},
   "source": [
    "Hier wird das erste Argument (`\"Max\"`) dem Parameter `vorname` und das zweite Argument (`\"Mustermann\"`) dem Parameter `nachname` zugewiesen.\n",
    "\n",
    "Das Aufrufen von Funktionen mit vielen Argumenten kann oft verwirrend sein und ist fehleranfällig. Python bietet die Möglichkeit, Funktionen mit *benannten* Argumenten aufzurufen, um die Lesbarkeit zu verbessern. Sie können den Funktionsaufruf auch auf mehrere Zeilen aufteilen.\n",
    "\n",
    "*Benannte* (oder *Schlüsselwort-*) *Argumente* ermöglichen es, die Argumente mit Namen zu übergeben. Dies macht den Code oft lesbarer und es ist nicht notwendig, sich an die Reihenfolge der Argumente zu befolgen oder zu erinnern. Hierbei wird das gleiche Ergebnis wie zuvor erzielt, aber die Argumente können in beliebiger Reihenfolge übergeben werden. Dies erhöht die Klarheit und Flexibilität."
   ]
  },
  {
   "cell_type": "code",
   "execution_count": null,
   "metadata": {},
   "outputs": [],
   "source": [
    "print(begruessung(nachname=\"Mustermann\", vorname=\"Max\"))  # Ausgabe: Hallo, Max Mustermann!\n"
   ]
  },
  {
   "cell_type": "markdown",
   "metadata": {},
   "source": [
    "In Python kann man auch eine Kombination aus positionalen und benannten Argumente verwenden. Wenn man dies tut, müssen die positionalen Argumente vor den benannten Argumenten stehen."
   ]
  },
  {
   "cell_type": "code",
   "execution_count": null,
   "metadata": {},
   "outputs": [],
   "source": [
    "def begruessung(vorname, nachname, begruessungsform=\"Hallo\"):\n",
    "    return f\"{begruessungsform}, {vorname} {nachname}!\"\n",
    "\n",
    "# Mischung aus positionale und benannte Argumente\n",
    "print(begruessung(\"Max\", \"Mustermann\", begruessungsform=\"Guten Tag\"))  # Ausgabe: Guten Tag, Max Mustermann!\n"
   ]
  },
  {
   "cell_type": "markdown",
   "metadata": {},
   "source": [
    "## Variadic Argumente in Python\n",
    "\n",
    "Variadic Argumente ermöglichen es einer Funktion, eine variable Anzahl von Argumenten zu akzeptieren. Dies ist nützlich, wenn die genaue Anzahl der Argumente zur Laufzeit nicht bekannt ist. In Python gibt es dafür zwei Hauptmechanismen: `*args` für positionale Argumente und `**kwargs` für benannte Argumente.\n",
    "\n",
    "Variadic Argumente sind ein mächtiges Werkzeug in Python, das Programmierern hilft, flexiblere und anpassbare Funktionen zu schreiben. Sie erleichtern den Umgang mit einer variablen Anzahl von Werten und verbessern die Lesbarkeit des Codes. \n",
    "\n",
    "### Variable Anzahl von positionalen Argumenten (`*args`)\n",
    "\n",
    "`*args` ermöglicht es einer Funktion, beliebig viele positionale Argumente zu akzeptieren. Die übergebenen Argumente werden dabei als Tuple innerhalb der Funktion gespeichert. Im Folgenden ein Beispiel für ein Funktion mit einer variablen Anzahl *positionaler* Argumente:"
   ]
  },
  {
   "cell_type": "code",
   "execution_count": null,
   "metadata": {},
   "outputs": [],
   "source": [
    "def summiere(*args):\n",
    "    return sum(args)\n",
    "\n",
    "# Verwendung der Funktion mit unterschiedlichen Argumentanzahlen\n",
    "print(summiere(1, 2, 3))          # Ausgabe: 6\n",
    "print(summiere(4, 5, 6, 7, 8))    # Ausgabe: 30"
   ]
  },
  {
   "cell_type": "markdown",
   "metadata": {},
   "source": [
    "In diesem Beispiel nimmt die Funktion `summiere` beliebig viele Argumente entgegen. Diese werden dann mit der integrierten Funktion `sum()` aufsummiert.\n",
    "\n",
    "### Variable Anzahl von benannten Argumenten (`**kwargs`)\n",
    "\n",
    "`**kwargs` erlaubt es, beliebig viele benannte Argumente an eine Funktion zu übergeben. Diese Argumente werden als Dictionary innerhalb der Funktion gespeichert."
   ]
  },
  {
   "cell_type": "code",
   "execution_count": null,
   "metadata": {},
   "outputs": [],
   "source": [
    "def drucke_details(**kwargs):\n",
    "    for schluessel, wert in kwargs.items():\n",
    "        print(f\"{schluessel}: {wert}\")\n",
    "\n",
    "# Verwendung der Funktion mit benannten Argumenten\n",
    "drucke_details(Name=\"Max\", Alter=25, Stadt=\"Berlin\")"
   ]
  },
  {
   "cell_type": "markdown",
   "metadata": {},
   "source": [
    "Hier nimmt die Funktion `drucke_details()` beliebige benannte Argumente entgegen. Diese werden als key-value-Paare im Dictionary `kwargs` gespeichert und dann ausgegeben.\n",
    "\n",
    "### Mischform: Verwendung von `*args` und `**kwargs`\n",
    "Eine Funktion kann sowohl `*args` als auch `**kwargs` akzeptieren. In diesem Fall müssen `*args` immer vor `**kwargs` stehen.\n",
    "\n",
    "Das nachfolgende Codebeispiel soll die Anwendung dieser Mischform verdeutlichen:"
   ]
  },
  {
   "cell_type": "code",
   "execution_count": null,
   "metadata": {},
   "outputs": [],
   "source": [
    "def benutzer_info(vorname, nachname, *args, **kwargs):\n",
    "    print(f\"Name: {vorname} {nachname}\")\n",
    "    print(\"Zusätzliche Infos:\")\n",
    "    for info in args:\n",
    "        print(f\"- {info}\")\n",
    "    for schluessel, wert in kwargs.items():\n",
    "        print(f\"{schluessel}: {wert}\")\n",
    "\n",
    "# Verwendung der Funktion\n",
    "benutzer_info(\"Max\", \"Mustermann\", \"Entwickler\", Alter=25, Stadt=\"Berlin\")"
   ]
  },
  {
   "cell_type": "markdown",
   "metadata": {},
   "source": [
    "**Vorteile von Variadic Argumenten:**\n",
    "\n",
    "- Flexibilität: Der Funktionsaufruf kann sich an verschiedene Bedürfnisse anpassen, ohne dass die Funktionsdefinition aktualisiert werden muss.\n",
    "- Erweiterbarkeit: Funktionen können leicht um neue Parameter erweitert werden, ohne die bestehenden Aufrufe zu beeinflussen.\n",
    "\n",
    "**Übungsaufgabe 1:**\n",
    "\n",
    "Schreiben Sie eine Funktion, die eine beliebige Anzahl von Zahlen annimmt und das größte und das kleinste Zahl zurückgibt. Verwenden Sie `*args`."
   ]
  },
  {
   "cell_type": "code",
   "execution_count": null,
   "metadata": {},
   "outputs": [],
   "source": [
    "def min_max(*args):\n",
    "    \"\"\" Gibt die kleinste und größte Zahl aus den übergebenen Argumenten zurück.\"\"\"\n",
    "    # YOUR CODE HERE\n",
    "    raise NotImplementedError()\n",
    "    return min_zahl, max_zahl\n",
    "\n",
    "# Testaufrufe\n",
    "print(min_max(3, 5, 1, 8, 4))  # Ausgabe: (1, 8)\n",
    "print(min_max(7, 2, 9, -1))     # Ausgabe: (-1, 9)\n",
    "print(min_max())                # Ausgabe: (None, None)"
   ]
  },
  {
   "cell_type": "markdown",
   "metadata": {},
   "source": [
    "**Übungsaufgabe 2:**\n",
    "\n",
    "Erstellen Sie eine weitere Funktion, die Informationen von mehreren Personen entgegennimmt (Name, Alter etc.) als benannte Argumente und diese in einem Dictionary speichert."
   ]
  },
  {
   "cell_type": "code",
   "execution_count": null,
   "metadata": {},
   "outputs": [],
   "source": [
    "def personen_infos(**kwargs):\n",
    "    \"\"\" Nimmt Informationen von mehreren Personen als benannte Argumente entgegen und speichert diese in einer Liste von Dictionaries. \"\"\"\n",
    "    personen = []\n",
    "    # YOUR CODE HERE\n",
    "    raise NotImplementedError()\n",
    "    return personen\n",
    "\n",
    "# Testaufruf\n",
    "infos = personen_infos(Name=\"Max\", Alter=25, Stadt=\"Berlin\", Beruf=\"Entwickler\")\n",
    "for personen_info in infos:\n",
    "    print(personen_info)\n",
    "\n",
    "# Ausgabe:\n",
    "# {'Name': 'Max'}\n",
    "# {'Alter': 25}\n",
    "# {'Stadt': 'Berlin'}\n",
    "# {'Beruf': 'Entwickler'}"
   ]
  },
  {
   "cell_type": "markdown",
   "metadata": {},
   "source": [
    "## Gültigkeitsbereiche von Variablen (Scopes)\n",
    "\n",
    "Der Begriff *Scope* (oder auf deutsch *Gültigkeitsbereich*) bezeichnet den Bereich im Code, in dem eine bestimmte Variable sichtbar ist. Jede Funktion (oder (später) Klassendefinition) definiert in Python einen Scope. Variablen, die in diesem Scope definiert sind, werden als *lokale Variablen* bezeichnet. Variablen, die überall verfügbar sind, heißen *globale Variablen*. Scope-Regeln ermöglichen es, dieselben Variablennamen in verschiedenen Funktionen zu verwenden, ohne dass Werte zwischen ihnen geteilt werden müssen.\n",
    "\n",
    "Gültigkeitsbereiche bestimmen also, wo Variablen definiert sind und wie auf sie zugegriffen werden kann. In Python gibt es verschiedene Arten von Gültigkeitsbereichen, die sich hauptsächlich in vier Kategorien einteilen lassen: lokale, geschlossene, globale und eingebaute Scopes. Diese werden oft durch die \"LEGB\" Regel (Local, Enclosing, Global, Built-in) beschrieben. D.h.,die Reihenfolge, in der Python nach Variablen sucht, ist: Local -> Enclosing -> Global -> Built-in.\n",
    "\n",
    "Verstehen der *Scopes* ist wichtig, um Fehler im Code zu vermeiden, insbesondere bei der Verwendung von Variablen in verschiedenen Kontexten.\n",
    "\n",
    "Das Wissen um Gültigkeitsbereiche hilft nicht nur beim Schreiben von Fehlerfreiem Code, sondern auch beim Aufbauen klarer und wartbarer Programme.\n",
    "\n",
    "### 1. Lokale Variablen\n",
    "\n",
    "*Lokale Variablen* sind nur innerhalb einer Funktion definiert und nur dort sichtbar. Sie existieren nur während der Ausführung der Funktion wie folgendes Beispiel verdeutlichen soll:"
   ]
  },
  {
   "cell_type": "code",
   "execution_count": null,
   "metadata": {},
   "outputs": [],
   "source": [
    "def meine_funktion():\n",
    "    lokale_variable = 10\n",
    "    print(\"Ausgabe innerhalb der Funktion:\", lokale_variable)\n",
    "\n",
    "meine_funktion()  # Ausgabe: Innerhalb der Funktion: 10\n",
    "# print(lokale_variable)  # Dies würde einen Fehler auslösen, da die Variable außerhalb der Funktion nicht existiert."
   ]
  },
  {
   "cell_type": "markdown",
   "metadata": {},
   "source": [
    "### 2. Geschlossene Variablen (Enclosing Scope)\n",
    "\n",
    "*Geschlossene Variablen* befinden sich in einer Funktion, die innerhalb einer anderen Funktion definiert ist. Sie sind innerhalb der inneren Funktion sichtbar, aber nicht außerhalb der äußeren Funktion. DAs folgende Code-Beispiel soll verdeutlichen, was damit gemeint ist:"
   ]
  },
  {
   "cell_type": "code",
   "execution_count": null,
   "metadata": {},
   "outputs": [],
   "source": [
    "def aussen():\n",
    "    geschlossene_variable = \"Ich bin in der Funktion aussen()\"\n",
    "\n",
    "    def innen():\n",
    "        print(geschlossene_variable)  # Zugriff auf die geschlossene Variable hier möglich\n",
    "    innen()\n",
    "\n",
    "aussen()  # Ausgabe: Ich bin in der äußeren Funktion\n",
    "# print(geschlossene_variable)  # Dies würde einen Fehler auslösen"
   ]
  },
  {
   "cell_type": "markdown",
   "metadata": {},
   "source": [
    "### 3. Globale Variablen\n",
    "\n",
    "*Globale Variablen* sind außerhalb aller Funktionen definiert und können sowohl innerhalb als auch außerhalb von Funktionen verwendet werden (wenn sie nicht lokal überschrieben werden)."
   ]
  },
  {
   "cell_type": "code",
   "execution_count": null,
   "metadata": {},
   "outputs": [],
   "source": [
    "globale_variable = \"Ich bin global\"\n",
    "\n",
    "def meine_funktion():\n",
    "    print(globale_variable)  # Zugriff auf die globale Variable\n",
    "\n",
    "meine_funktion()  # Ausgabe: Ich bin global"
   ]
  },
  {
   "cell_type": "code",
   "execution_count": null,
   "metadata": {},
   "outputs": [],
   "source": [
    "globale_variable = 5\n",
    "\n",
    "def erhoehe_globale_variable():\n",
    "    global globale_variable\n",
    "    globale_variable += 1  # Modifikation der globalen Variable\n",
    "\n",
    "erhoehe_globale_variable()\n",
    "print(globale_variable)  # Ausgabe: 6"
   ]
  },
  {
   "cell_type": "markdown",
   "metadata": {},
   "source": [
    "Der folgende wird einen Fehler auslösen, da die globale Variable innerhalb der Funktion nicht veränderbar ist."
   ]
  },
  {
   "cell_type": "code",
   "execution_count": null,
   "metadata": {},
   "outputs": [],
   "source": [
    "globale_variable = 5\n",
    "\n",
    "def erhoehe_globale_variable():\n",
    "    # Dies wird einen Fehler auslösen, da die globale Variable innerhalb der Funktion nicht veränderbar ist.\n",
    "    globale_variable += 1  # Modifikation der globalen Variable \n",
    "\n",
    "erhoehe_globale_variable()\n",
    "print(globale_variable)  # Ausgabe: 6"
   ]
  },
  {
   "cell_type": "markdown",
   "metadata": {},
   "source": [
    "### 4. Eingebaute Variablen (Built-in Scope)\n",
    "\n",
    "Eingebaute Variablen sind in Python von vornherein definiert und stehen global zur Verfügung, z. B. `print()`, `len()`, usw. Streng genommen sind dies keine fest definierten \"eingebauten Variablen\" wie man sie in anderen Programmiersprachen finden könnte, sondern Funktionen/Methoden. Weitere Beispiele sind Konstanten und Typen verwiesen, die überall im Code verwendet werden können.\n",
    "\n",
    "`None` ist z.B. eine spezielle Konstante, die \"Nichts\" oder \"Kein Wert\" repräsentiert und die Konstanten `True`und `False` repräsentieren die booleschen Werte.\n",
    "\n",
    "## Hilfsfunktionen\n",
    "\n",
    "Sie können Hilfsfunktionen innerhalb der Definition einer Funktion definieren. Hilfsfunktionen (auch „Helper Functions“) sind kleine Funktionen, die spezifische Aufgaben innerhalb eines größeren Programms oder einer Funktion erfüllen. Sie sind oft darauf ausgelegt, wiederverwendbare Blöcke von Code zu kapseln, die von verschiedenen Stellen im Programm aufgerufen werden können. Die Hilfsfunktion `is_odd(x)`im folgenden Codeblock ist innerhalb einer anderen Funktion definiert. Der Begriff Hilfsfunktion ist aber nicht auf Funktionen innerhalb von Funktionen beschränkt."
   ]
  },
  {
   "cell_type": "code",
   "execution_count": null,
   "metadata": {},
   "outputs": [],
   "source": [
    "def alternate(x):\n",
    "    \"\"\"\n",
    "    returns -x if x is odd, x if x is even\n",
    "    \"\"\"\n",
    "    def is_odd(x):\n",
    "        \"\"\"\n",
    "        returns true if x is odd\n",
    "        \"\"\"\n",
    "        return x % 2 == 1 # % is mod operator\n",
    "    \n",
    "    # we now return to the function alternate\n",
    "    if is_odd(x):\n",
    "        return -x\n",
    "    else:\n",
    "        return x\n",
    "    \n",
    "for i in range(-5,5):\n",
    "    print(\"{:+d}\".format(alternate(i)))"
   ]
  },
  {
   "cell_type": "markdown",
   "metadata": {},
   "source": [
    "## Lambda-Funktionen    \n",
    "\n",
    "Manchmal benötigt man eine Funktion nur einmal, sodass man keinen dauerhaften Namen dafür erstellen möchte. *Lambda*-Funktionen sind kleine anonyme Funktionen, die mit dem Schlüsselwort `lambda` definiert werden. \n",
    "\n",
    "Lambda-Funktionen (und das [Lambda-Kalkül](https://en.wikipedia.org/wiki/Lambda_calculus)) spielen eine wichtige Rolle in der Informatik. Sie finden sich neben Python auch in anderen Programmiersprachen. \n",
    "\n",
    "Sie können beliebige Argumente annehmen, aber nur einen Ausdruck auswerten und zurückgeben. Lambda-Funktionen werden oft für kurze, einmalige Operationen verwendet, insbesondere als Argumente für Funktionen höherer Ordnung wie `map()`, `filter()` und `sorted()`.\n",
    "\n",
    "Sie können verwendet werden, um kurzzeitig einfache Funktionen zu erstellen, ohne ihnen einen Namen zu geben. Diese Funktionen sind oft nur für eine einzige Zeile ausgelegt.\n",
    "\n",
    "Die Semantik einer Lambda-Funktion ähnelt stark der einer mit `def` deklarierten Funktion:\n",
    "\n",
    "\n",
    "\n",
    "Die allgemeine Syntax einer Lambda-Funktion lautet:\n",
    "\n",
    "```Python\n",
    "lambda argumente: ausdruck\n",
    "````\n",
    "\n",
    "bzw.\n",
    "\n",
    "```Python\n",
    "lambda *args : output\n",
    "```\n",
    "\n",
    "Zur Veranschaulichung nachfolgend zwei einfache Lambda-Funktion, einmal zur Berechnung des Quadrats einer Zahl und eine lambda Funktion die zwei Zahlen addiert."
   ]
  },
  {
   "cell_type": "code",
   "execution_count": null,
   "metadata": {},
   "outputs": [],
   "source": [
    "f = lambda x : x*x\n",
    "f(2)"
   ]
  },
  {
   "cell_type": "code",
   "execution_count": null,
   "metadata": {},
   "outputs": [],
   "source": [
    "addiere = lambda x, y: x + y\n",
    "print(addiere(3, 5))  # Ausgabe: 8"
   ]
  },
  {
   "cell_type": "markdown",
   "metadata": {},
   "source": [
    "Lambda-Funktionen sind besonders nützlich bei Funktionen wie `map()`, `filter()` und `sorted()`, die Funktionen als Argumente benötigen."
   ]
  },
  {
   "cell_type": "code",
   "execution_count": null,
   "metadata": {},
   "outputs": [],
   "source": [
    "zahlen = [1, 2, 3, 4]\n",
    "verdoppelte_zahlen = list(map(lambda x: x * 2, zahlen))\n",
    "print(verdoppelte_zahlen)  # Ausgabe: [2, 4, 6, 8]"
   ]
  },
  {
   "cell_type": "code",
   "execution_count": null,
   "metadata": {},
   "outputs": [],
   "source": [
    "zahlen = [1, 2, 3, 4, 5, 6]\n",
    "gerade_zahlen = list(filter(lambda x: x % 2 == 0, zahlen))\n",
    "print(gerade_zahlen)  # Ausgabe: [2, 4, 6]"
   ]
  },
  {
   "cell_type": "code",
   "execution_count": null,
   "metadata": {},
   "outputs": [],
   "source": [
    "paare = [(1, 'eins'), (3, 'drei'), (2, 'zwei')]\n",
    "# Sortieren nach der ersten Zahl des Paares\n",
    "sortierte_paare = sorted(paare, key=lambda x: x[0])\n",
    "print(sortierte_paare)  # Ausgabe: [(1, 'eins'), (2, 'zwei'), (3, 'drei')]"
   ]
  },
  {
   "cell_type": "markdown",
   "metadata": {},
   "source": [
    "Lambda-Funktionen sind auf einen einzelnen Ausdruck beschränkt und können keine komplexen Logikstrukturen wie `if`, `for` oder `while` enthalten. Lambda-Funktionen in Python sind eine nützliche Möglichkeit, einfache und kurzfristige Funktionen zu erstellen. Sie sind besonders effektiv in Kombination mit Funktionen höherer Ordnung, sollten aber mit Bedacht eingesetzt werden, da die Lesbarkeit des Codes beeinträchtigt werden kann."
   ]
  },
  {
   "cell_type": "code",
   "execution_count": null,
   "metadata": {},
   "outputs": [],
   "source": []
  }
 ],
 "metadata": {
  "kernelspec": {
   "display_name": "base",
   "language": "python",
   "name": "python3"
  },
  "language_info": {
   "codemirror_mode": {
    "name": "ipython",
    "version": 3
   },
   "file_extension": ".py",
   "mimetype": "text/x-python",
   "name": "python",
   "nbconvert_exporter": "python",
   "pygments_lexer": "ipython3",
   "version": "3.12.2"
  },
  "varInspector": {
   "cols": {
    "lenName": 16,
    "lenType": 16,
    "lenVar": 40
   },
   "kernels_config": {
    "python": {
     "delete_cmd_postfix": "",
     "delete_cmd_prefix": "del ",
     "library": "var_list.py",
     "varRefreshCmd": "print(var_dic_list())"
    },
    "r": {
     "delete_cmd_postfix": ") ",
     "delete_cmd_prefix": "rm(",
     "library": "var_list.r",
     "varRefreshCmd": "cat(var_dic_list()) "
    }
   },
   "types_to_exclude": [
    "module",
    "function",
    "builtin_function_or_method",
    "instance",
    "_Feature"
   ],
   "window_display": false
  }
 },
 "nbformat": 4,
 "nbformat_minor": 4
}
