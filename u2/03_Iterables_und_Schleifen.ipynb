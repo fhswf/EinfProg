{
 "cells": [
  {
   "cell_type": "markdown",
   "metadata": {},
   "source": [
    "<figure>\n",
    "  <IMG SRC=\"https://upload.wikimedia.org/wikipedia/commons/thumb/d/d5/Fachhochschule_Südwestfalen_20xx_logo.svg/320px-Fachhochschule_Südwestfalen_20xx_logo.svg.png\" WIDTH=250 ALIGN=\"right\">\n",
    "</figure>\n",
    "\n",
    "# Einführung in die Programmierung\n",
    "### Winterersemester 2025/25\n",
    "Prof. Dr. Stefan Goetze"
   ]
  },
  {
   "cell_type": "markdown",
   "metadata": {},
   "source": [
    "<figure>\n",
    "  <IMG SRC=\"https://upload.wikimedia.org/wikipedia/commons/thumb/d/d5/Fachhochschule_Südwestfalen_20xx_logo.svg/320px-Fachhochschule_Südwestfalen_20xx_logo.svg.png\" WIDTH=250 ALIGN=\"right\">\n",
    "</figure>\n",
    "\n",
    "# Einführung in die Programmierung \n",
    "### Winterersemester 2025/26\n",
    "Prof. Dr. Stefan Goetze"
   ]
  },
  {
   "cell_type": "markdown",
   "metadata": {
    "id": "7B_-CpRRW4Zd"
   },
   "source": [
    "# Übung 2 - Tupel, Listen und Wörterbücher, Mengen\n",
    "\n",
    "In dieser Lektion lernen wir:\n",
    "\n",
    "* Veränderlichkeit (Mutability)\n",
    "* Sequenzen\n",
    "* Tupel\n",
    "* Listen\n",
    "* Wörterbücher\n",
    "\n",
    "## Veränderlichkeit (Mutability)\n",
    "\n",
    "Einige Datentypen können nach ihrer Erstellung verändert werden (sie sind veränderlich, *mutable*) ohne ein neues Objekt anzulegen, andere nicht (diese sind unveränderlich, *immutable*). \n",
    "\n",
    "Beispiele für veränderliche (*mutable*) Objekte in Python sind:\n",
    "\n",
    "* Listen (`list`)\n",
    "* Dictionaries (`dict`)\n",
    "* Mengen (`set`)\n",
    "\n",
    "(Wir werden diese Objekte im Laufe dieses Notebooks genauer kennen lernen, aber hier schon mal ein Beipiel für den Typ Liste (`list`), diese können wir uns für den Moment wie ein Vektor in der Mathematik vorstellen.)"
   ]
  },
  {
   "cell_type": "code",
   "execution_count": null,
   "metadata": {},
   "outputs": [],
   "source": [
    "meine_liste = [1, 2, 3]  # mutable\n",
    "print(meine_liste)       # output: [1, 2, 3]\n",
    "meine_liste[0] = 10      # We change the first element\n",
    "print(meine_liste)       # output: [10, 2, 3]"
   ]
  },
  {
   "cell_type": "markdown",
   "metadata": {
    "id": "41QJTBmCwX38"
   },
   "source": [
    "Unveränderliche (*immutable*) Objekte können nach ihrer Erstellung nicht mehr verändert werden. Wenn wir eine solche Veränderung vornehmen möchten, müssen wir ein neues Objekt erstellen. Beispiele für *immutable* Objekte sind:\n",
    "\n",
    "* Integer (`int`)\n",
    "* Float (`float`)\n",
    "* Strings (`str`)\n",
    "* Tupel (`tuple`)\n",
    "\n",
    "Zeichenketten (*Strings*) sind also z.B. unveränderlich (*immutable*). Aus diesem Grund können wir keine Werte einzelnen Zeichen in einer Zeichenkette zuweisen. Wenn wir also eine Funktion aufrufen, die scheinbar eine Zeichenkette verändert, wird in Wirklichkeit eine neue Zeichenkette erstellt und (normalerweise) die alte verworfen.\n",
    "\n",
    "Der folgende Code  in dem wir versuchen, einen String an einer Stelle zu manipulieren, wird daher einen Fehler produzieren.\n"
   ]
  },
  {
   "cell_type": "code",
   "execution_count": null,
   "metadata": {
    "id": "VTi3Y_Gpw_34"
   },
   "outputs": [],
   "source": [
    "s = 'James C. Kirk'\n",
    "print(s)\n",
    "print('sixth character:', s[6])\n",
    "s[6] = 'T' # This will raise an error"
   ]
  },
  {
   "cell_type": "markdown",
   "metadata": {},
   "source": [
    "Sehr wohl können wir aber natürlich den Sting komplett ändern."
   ]
  },
  {
   "cell_type": "code",
   "execution_count": null,
   "metadata": {
    "id": "ucrfXIos4wKi"
   },
   "outputs": [],
   "source": [
    "print(s)\n",
    "s = 'James T. Kirk'\n",
    "print(s)"
   ]
  },
  {
   "cell_type": "markdown",
   "metadata": {},
   "source": [
    "Natürlich bietet Python (sehr mächtige) Funktionen zur Stringmanipulation. Hier nur ein kleines Beispiel:"
   ]
  },
  {
   "cell_type": "code",
   "execution_count": null,
   "metadata": {},
   "outputs": [],
   "source": [
    "my_string = \"Hallo Stefan\"     # immutable\n",
    "new_string = my_string.replace(\"Hallo\", \"Hi\")  # This creates a new object\n",
    "print(my_string)        # output: \"Hallo\"\n",
    "print(new_string)       # output: \"Hi\""
   ]
  },
  {
   "cell_type": "markdown",
   "metadata": {},
   "source": [
    "### Warum ist es wichtig, Mutability zu verstehen?\n",
    "\n",
    "* **Speicherverwaltung**: Mutable Objekte werden im Speicher effizienter verwaltet, da sie nicht kopiert werden müssen.\n",
    "* **Fehlervermeidung**: Wenn wir nicht aufpassen, kann die Veränderung eines mutable Objekts unerwartete Fehler verursachen, wenn mehrere Variablen auf dasselbe Objekt verweisen. Das Wissen um Mutability ist also wichtig für das effektive Programmieren und das Vermeiden von Bugs. Hier ein Beispiel:"
   ]
  },
  {
   "cell_type": "code",
   "execution_count": null,
   "metadata": {},
   "outputs": [],
   "source": [
    "# Create a list and assign it to variable with name list_a\n",
    "list_a = [1, 2, 3]\n",
    "\n",
    "# We let list_b point to the same list\n",
    "list_b = list_a\n",
    "\n",
    "# We change liste_a\n",
    "list_a[0] = 100\n",
    "\n",
    "# outputs\n",
    "print(\"List A:\", list_a)  # output: List A: [100, 2, 3]\n",
    "print(\"List B:\", list_b)  # output: List B: [100, 2, 3]"
   ]
  },
  {
   "cell_type": "markdown",
   "metadata": {},
   "source": [
    "Im vorherigen Codebeispiel wird auch *der Inhalt* der Variable `list_b` geändert (da der Variablenname auf das gleiche Objekt *zeigt*), wenn wir `list_a` manipulieren (deren Inhalt ändern)."
   ]
  },
  {
   "cell_type": "code",
   "execution_count": null,
   "metadata": {},
   "outputs": [],
   "source": [
    "list_b[2] = 300\n",
    "# outputs\n",
    "print(\"List A:\", list_a)  # output: List A: [100, 2, 100]\n",
    "print(\"List B:\", list_b)  # output: List B: [100, 2, 100]"
   ]
  },
  {
   "cell_type": "markdown",
   "metadata": {
    "id": "_l6GNfoTeAUk"
   },
   "source": [
    "## Tupel"
   ]
  },
  {
   "cell_type": "markdown",
   "metadata": {
    "id": "cBOfRAyaW9ah"
   },
   "source": [
    "[Tupel](https://docs.python.org/3/library/stdtypes.html#tuple) sind geordnete Sammlungen, also Sequenzen, ähnlich wie Zeichenketten, aber sie können beliebige Datentypen enthalten (nicht nur Zeichen). Sie können sogar verschiedene Typen innerhalb desselben Tupels enthalten. Tupel werden durch runde Klammern definiert, und die Elemente eines Tupels werden durch Kommas getrennt, zum Beispiel:\n",
    "\n",
    "`('a', 'b', 'c', 1, 2, 3)`"
   ]
  },
  {
   "cell_type": "markdown",
   "metadata": {
    "id": "frzGYC4epOui"
   },
   "source": [
    "### Erstellen von Tupeln\n"
   ]
  },
  {
   "cell_type": "code",
   "execution_count": null,
   "metadata": {
    "id": "TakeKfetapem"
   },
   "outputs": [],
   "source": [
    "# Create an empty tuple\n",
    "tup = ()\n",
    "print('empty tuple:', tup)"
   ]
  },
  {
   "cell_type": "code",
   "execution_count": null,
   "metadata": {
    "id": "oVCzzPpIWvtF"
   },
   "outputs": [],
   "source": [
    "# Create a tuple with some initial contents\n",
    "tup = ('Python', 1024, 3.14, True)\n",
    "print('non-empty tuple:', tup)"
   ]
  },
  {
   "cell_type": "code",
   "execution_count": null,
   "metadata": {
    "id": "ks93vR9wpdT7"
   },
   "outputs": [],
   "source": [
    "# the same value can occur multiple times in a tuple\n",
    "tup = ('a', 'a', 'a')\n",
    "print(tup)"
   ]
  },
  {
   "cell_type": "markdown",
   "metadata": {
    "id": "JG5CgStIYW4P"
   },
   "source": [
    "### Tupel-Operationen\n",
    "\n",
    "Da Tupel Sequenzen sind – ähnlich wie Zeichenketten –, können wir uns z.B. die Länge bestimmen lassen:"
   ]
  },
  {
   "cell_type": "code",
   "execution_count": null,
   "metadata": {
    "id": "1aBjcrJDW4AA"
   },
   "outputs": [],
   "source": [
    "# the len function returns the length of a tuple\n",
    "tup = (1, 2, 3, 4)\n",
    "print(len(tup))     # returns size of a tuple\n",
    "tup = (1, 2, 3, 4, 5)\n",
    "print(len(tup))"
   ]
  },
  {
   "cell_type": "markdown",
   "metadata": {},
   "source": [
    "Da Tupel Sequenzen sind – wieder: ähnlich wie Zeichenketten –, können wir auf die einzelnen Elemente des Tupels durch den (bei $0$ anfangenden) Index durch eckige Klammen `[]` zugreifen:"
   ]
  },
  {
   "cell_type": "code",
   "execution_count": null,
   "metadata": {
    "id": "5mw3OsrRXOVr"
   },
   "outputs": [],
   "source": [
    "# indexing (like for strings, tuple indexing starts with zero!)\n",
    "tup = (1, 2, 3)\n",
    "print('value at index 0:')\n",
    "print(tup[0])\n",
    "print()\n",
    "print('the whole tuple:')\n",
    "print(tup)"
   ]
  },
  {
   "cell_type": "code",
   "execution_count": null,
   "metadata": {
    "id": "zoCHyBW6qW37"
   },
   "outputs": [],
   "source": [
    "# indexing out of bounds raises a runtime error\n",
    "tup = ('abc', 123, 3.14, True)\n",
    "print(tup[99]) # This will raise an error"
   ]
  },
  {
   "cell_type": "markdown",
   "metadata": {},
   "source": [
    "## **Einschub Schleifen**\n",
    "\n",
    "Da Tupel Sequenzen sind – nochmal: ähnlich wie Zeichenketten –, funktionieren Funktionen und `for`-Schleifen, die auf Zeichenketten angewendet werden, auch mit Tupeln.\n",
    "\n",
    "*Hinweis für den folgenden Code*: Die [`range()`-Funktion](https://docs.python.org/2/library/functions.html#range) erzeugt eine Sequenz von Zahlen, die oft zum Zählen in Schleifen verwendet wird.\n",
    "\n",
    "```python\n",
    "for i in range(0,5):  # range(0,5) erzeugt die Zahlen 0, 1, 2, 3, 4\n",
    "    print(i)\n",
    "# Ausgabe: 0 1 2 3 4\n",
    "```\n",
    "*Hinweis 2*: Die Funktion `range(0,5)` erzeugt Zahlen von $0$ bis $4$ (dies ist kein Fehler im Code oben). Dieses Verhalten ist *normal* bei Python (wir sehen das auch weiter unten (beim *Slicing*) wieder).\n",
    "\n",
    "*Hinweis 3*: Der [Startindex bei `range()`](https://docs.python.org/2/library/functions.html#range), kann weggelassen werden, wenn wir bei $0$ starten wollen, wir können also auch einfach `range(5)` schreiben und somit:\n",
    "\n",
    "```python\n",
    "for i in range(5):  # range(5) erzeugt die Zahlen 0, 1, 2, 3, 4\n",
    "    print(i)\n",
    "# Ausgabe: 0 1 2 3 4\n",
    "```"
   ]
  },
  {
   "cell_type": "code",
   "execution_count": null,
   "metadata": {
    "id": "kQmS34FQljJ9"
   },
   "outputs": [],
   "source": [
    "# loops over tuples\n",
    "tup = (1, 2, 3)\n",
    "for i in range(len(tup)):\n",
    "  print(tup[i])"
   ]
  },
  {
   "cell_type": "code",
   "execution_count": null,
   "metadata": {
    "id": "2KNPRHtrl7HQ"
   },
   "outputs": [],
   "source": [
    "# a better (i.e. the more Pythonic) way to loop (a.k.a. iterate) over tuples...\n",
    "tup = (1, 2, 3)\n",
    "for tuple_entry in tup:\n",
    "  print(tuple_entry)\n",
    "\n",
    "# the variable still exists agter the for loop and contains the last value assigned to it\n",
    "print('After the loop, tuple_entry contains:')\n",
    "tuple_entry"
   ]
  },
  {
   "cell_type": "code",
   "execution_count": null,
   "metadata": {
    "id": "LkQ3cF9IXkZ8"
   },
   "outputs": [],
   "source": [
    "# the in operator (membership test)\n",
    "x = 4\n",
    "tup = (1, 2, 3, 4, 5)\n",
    "if x in tup: # True if var’s value is in tuple\n",
    "    print(tup, 'contains ', x)\n",
    "else:\n",
    "    print(tup, 'does NOT contain', x)"
   ]
  },
  {
   "cell_type": "code",
   "execution_count": null,
   "metadata": {
    "id": "2lGOMMn5YH_v"
   },
   "outputs": [],
   "source": [
    "# slicing\n",
    "tup = (1, 2, 3, 4, 5)\n",
    "print(tup[2:])   # prints 3rd through end of tuple\n",
    "print(tup[:3])   # prints first through third from last\n",
    "print(tup[2:4])\n",
    "\n",
    "print(tup[-1])  # last element\n",
    "print(tup[-3:]) # last three elements\n",
    "print(tup[:-2]) # everything except the last two elements"
   ]
  },
  {
   "cell_type": "code",
   "execution_count": null,
   "metadata": {
    "id": "oT9s5vJ3W4KR"
   },
   "outputs": [],
   "source": [
    "# the plus operator concatenates (combines) two tuples into one\n",
    "t1 = (1, 2, 3)\n",
    "t2 = (4, 5, 6)\n",
    "print(t1 + t2)"
   ]
  },
  {
   "cell_type": "markdown",
   "metadata": {
    "id": "kdAtTbGuYcRB"
   },
   "source": [
    "### Tupel sind unveränderlich\n",
    "\n",
    "Wie bei Zeichenketten können wir ein Tupel nach seiner Erstellung nicht mehr verändern.\n"
   ]
  },
  {
   "cell_type": "code",
   "execution_count": null,
   "metadata": {
    "id": "I6rCFofvZVm3"
   },
   "outputs": [],
   "source": [
    "tup = (1, 2, 3)\n",
    "print(tup[1])\n",
    "tup[1] = 7 # This will raise an error"
   ]
  },
  {
   "cell_type": "markdown",
   "metadata": {
    "id": "mkoB-QB9ZYRn"
   },
   "source": [
    "Aber wir können einer Variablen ein neues Tupel zuweisen. Dabei wird das Tupel selbst nicht verändert, sondern nur die Zuordnung zwischen der Variablen und ihrem Wert.\n"
   ]
  },
  {
   "cell_type": "code",
   "execution_count": null,
   "metadata": {
    "id": "jen-2VNJZVyI"
   },
   "outputs": [],
   "source": [
    "tup = (1, 2, 3)\n",
    "print(tup)\n",
    "tup = (1, 3, 2)\n",
    "# the tuple didn't change, the tup variable now points to different data!\n",
    "print(tup)"
   ]
  },
  {
   "cell_type": "markdown",
   "metadata": {
    "id": "73PakyYArTFs"
   },
   "source": [
    "### Verschachtelte Tupel\n",
    "\n",
    "So wie wir **if**-Anweisungen innerhalb von **if**-Anweisungen (verschachtelte **if**-Anweisungen) oder Schleifen innerhalb von Schleifen (verschachtelte Schleifen) programmieren können, können wir auch auch Tupel innerhalb von Tupeln (verschachtelte Tupel) erstellen.\n",
    "\n",
    "* Tupel von Tupeln: `((1, 2), (3, 4))`\n",
    "* Tupel aus Zeichenketten und Tupeln: `('Hi', (1,2,3), \"there\")`\n",
    "* Tupel aus Tupeln von Tupeln: `(((1,2), (3,4)), ((5,6), (7,8)))`\n"
   ]
  },
  {
   "cell_type": "code",
   "execution_count": null,
   "metadata": {
    "id": "fZSAhMQTm_FS"
   },
   "outputs": [],
   "source": [
    "# More readable tuple of tuples\n",
    "nested_tuple = (\n",
    "                 (\n",
    "                   (1, 2),\n",
    "                   (3, 4)\n",
    "                 ),\n",
    "                 (\n",
    "                   (5, 6),\n",
    "                   (7, 8)\n",
    "                 )\n",
    "               )\n",
    "print(nested_tuple)"
   ]
  },
  {
   "cell_type": "markdown",
   "metadata": {
    "id": "elexmuppeTrt"
   },
   "source": [
    "## Listen"
   ]
  },
  {
   "cell_type": "markdown",
   "metadata": {
    "id": "DYtSrDYpYhYp"
   },
   "source": [
    "* Eine [Liste](https://docs.python.org/3/library/stdtypes.html#list) ist wie ein Tupel, aber sie ist veränderlich (*mutable*).\n",
    "* Fast alles, was wir über Tupel gelernt haben, gilt auch für Listen.\n",
    "* Listen sind geordnete Sequenzen.\n",
    "* Alle Sequenz-Operationen, die wir bei Zeichenketten und Tupeln gelernt haben, wie `len`, Indexierung, Slicing, Schleifen, der `in`-Operator usw., gelten auch für Listen.\n",
    "\n",
    "Listen werden in eckigen Klammern definiert, wobei die Listenelemente durch Kommas getrennt sind, zum Beispiel:\n",
    "\n",
    "```Python\n",
    "['a', 'b', 'c', 1, 2, 3]\n",
    "```\n"
   ]
  },
  {
   "cell_type": "markdown",
   "metadata": {
    "id": "1jwHZXqfpaAX"
   },
   "source": [
    "### Erstellen von Listen"
   ]
  },
  {
   "cell_type": "code",
   "execution_count": null,
   "metadata": {
    "id": "A91BmSFkpT4f"
   },
   "outputs": [],
   "source": [
    "# Create an empty list (lists use square brackets instead of parens)\n",
    "li = []\n",
    "print('empty list:', li)"
   ]
  },
  {
   "cell_type": "code",
   "execution_count": null,
   "metadata": {
    "id": "zR1rdQJtauzK"
   },
   "outputs": [],
   "source": [
    "# Create and initialize a list with some data\n",
    "li = ['Python', 123, 3.14, True]\n",
    "print('non-empty list:', li)"
   ]
  },
  {
   "cell_type": "code",
   "execution_count": null,
   "metadata": {
    "id": "UYf57Saqa8m8"
   },
   "outputs": [],
   "source": [
    "# the same value can occur multiple times in a list\n",
    "li = ['a', 'a', 'a']\n",
    "print(li)"
   ]
  },
  {
   "cell_type": "markdown",
   "metadata": {
    "id": "XjDSB3GNZ4Cb"
   },
   "source": [
    "### Listen-Operationen\n"
   ]
  },
  {
   "cell_type": "code",
   "execution_count": null,
   "metadata": {
    "id": "2Vh3dCTCbXIU"
   },
   "outputs": [],
   "source": [
    "# The len() function gives us the size of a list.\n",
    "li = ['abc', 123, 3.14, True, 5]\n",
    "# get the size of a list\n",
    "list_size = len(li)\n",
    "print(list_size)"
   ]
  },
  {
   "cell_type": "code",
   "execution_count": null,
   "metadata": {
    "id": "HqMd0VH2bZBj"
   },
   "outputs": [],
   "source": [
    "li = ['abc', 123, 3.14, True, 99, 101, \"another\", \"last one - I promise\"]\n",
    "# iterate (loop) over the elements in a list\n",
    "for i in range(len(li)):\n",
    "  print(li[i])"
   ]
  },
  {
   "cell_type": "code",
   "execution_count": null,
   "metadata": {
    "id": "-bBSPvCKqHPq"
   },
   "outputs": [],
   "source": [
    "# A better way to iterate over the elements in a list\n",
    "li = ['abc', 123, 3.14, True, 99, 101, \"another\", \"last one - I promise\"]\n",
    "for i in li:\n",
    "  print(i)"
   ]
  },
  {
   "cell_type": "code",
   "execution_count": null,
   "metadata": {
    "id": "bW0wb9G2bcqF"
   },
   "outputs": [],
   "source": [
    "li = ['abc', 123, 3.14, True]\n",
    "# test membership in a list\n",
    "\n",
    "x = 3.14159\n",
    "if not x in li:\n",
    " print(x, 'is not in list')\n",
    "else:\n",
    " print(x, 'is in list')"
   ]
  },
  {
   "cell_type": "code",
   "execution_count": null,
   "metadata": {
    "id": "U86i_Z0ZcDj8"
   },
   "outputs": [],
   "source": [
    "li = ['abc', 123, 3.14, True]\n",
    "# indexing (list indexes start with zero!)\n",
    "print(li[2])"
   ]
  },
  {
   "cell_type": "code",
   "execution_count": null,
   "metadata": {
    "id": "p1b6JeS5cFiC"
   },
   "outputs": [],
   "source": [
    "# indexing out of bounds raises a runtime error\n",
    "li = ['abc', 123, 3.14, True]\n",
    "print(li[99])\n"
   ]
  },
  {
   "cell_type": "code",
   "execution_count": null,
   "metadata": {
    "id": "gQMJCFZ7cHaB"
   },
   "outputs": [],
   "source": [
    "li = ['abc', 123, 3.14, True]\n",
    "# slicing\n",
    "print(li[1:3])"
   ]
  },
  {
   "cell_type": "code",
   "execution_count": null,
   "metadata": {
    "id": "Wukzw25lcIqk"
   },
   "outputs": [],
   "source": [
    "# concatenating lists\n",
    "li1 = ['a', 1]\n",
    "li2 = ['b', 2]\n",
    "li3 = [99.99]\n",
    "li4 = li1 + li2 + li3\n",
    "print(li4)"
   ]
  },
  {
   "cell_type": "code",
   "execution_count": null,
   "metadata": {},
   "outputs": [],
   "source": [
    "list_of_numbers = [10, 20, 30, 40, 50]\n",
    "print('Original list:', list_of_numbers)\n",
    "\n",
    "# here the same happens as with strings: the list is repeated three times\n",
    "print(list_of_numbers * 3)\n",
    "\n",
    "# but:\n",
    "list_of_numbers[0] = list_of_numbers[0] + 50\n",
    "print('Modified list:', list_of_numbers)\n",
    "\n",
    "\n",
    "list_of_strings = ['a', 'b', 'c']\n",
    "print('Original list:', list_of_strings)\n",
    "print(list_of_strings * 3)  \n"
   ]
  },
  {
   "cell_type": "markdown",
   "metadata": {
    "id": "Et0aWB-rc5es"
   },
   "source": [
    "### Listen sind veränderlich\n",
    "\n",
    "Im Gegensatz zu Tupeln und Zeichenketten können wir den Inhalt einer Liste nach ihrer Erstellung ändern.\n"
   ]
  },
  {
   "cell_type": "code",
   "execution_count": null,
   "metadata": {
    "id": "uLBYBQ0Qhp_A"
   },
   "outputs": [],
   "source": [
    "# add an element\n",
    "li = []\n",
    "print(li)\n",
    "li.append('elem1')\n",
    "print(li)\n",
    "li.append(400)\n",
    "print(li)"
   ]
  },
  {
   "cell_type": "code",
   "execution_count": null,
   "metadata": {
    "id": "x1ua7Eq0iHr8"
   },
   "outputs": [],
   "source": [
    "li = ['elem1', 'elem2']\n",
    "print(li)\n",
    "# remove an element\n",
    "li.remove('elem1')\n",
    "print(li)\n",
    "# removes only first occurrence of 'element' in list\n",
    "# differs from del because it’s based on value, not position"
   ]
  },
  {
   "cell_type": "code",
   "execution_count": null,
   "metadata": {
    "id": "lINRDmjRiONn"
   },
   "outputs": [],
   "source": [
    "li = ['elem1', 'elem2', 3, 99.9]\n",
    "# remove & retrieve an element based on position\n",
    "\n",
    "print('start:', li)\n",
    "for i in range(len(li)):\n",
    "  elem = li.pop()\n",
    "  print('removed', elem, 'remaining list:', li)"
   ]
  },
  {
   "cell_type": "code",
   "execution_count": null,
   "metadata": {
    "id": "K7miQfp_iQil"
   },
   "outputs": [],
   "source": [
    "# If you remove an element that doesn't exist, Python gives a run time error.\n",
    "# How can that be avoided? Test for existence before removing by value\n",
    "li = ['elem1', 'elem2']\n",
    "e = 'elem3'\n",
    "li.remove(e)"
   ]
  },
  {
   "cell_type": "code",
   "execution_count": null,
   "metadata": {
    "id": "9G03HO1KiVVW"
   },
   "outputs": [],
   "source": [
    "li = ['elem1', 'elem2', 'elem3']\n",
    "print(li)\n",
    "# replace an element by index\n",
    "li[1] = 'foo' # overwrites value at index 1 (second element)\n",
    "print(li)"
   ]
  },
  {
   "cell_type": "code",
   "execution_count": null,
   "metadata": {
    "id": "XnOc6vMlidWj"
   },
   "outputs": [],
   "source": [
    "li = ['abc', 123, 3.14, True]\n",
    "print(li[1:3])\n",
    "# assign to a list slice\n",
    "li[1:] = [9,8,7.6]\n",
    "print(li)"
   ]
  },
  {
   "cell_type": "code",
   "execution_count": null,
   "metadata": {
    "id": "qoOsMOmBifXa"
   },
   "outputs": [],
   "source": [
    "li = ['abc', 123, 3.14, True]\n",
    "# delete a list element\n",
    "del li[2]\n",
    "print(li)"
   ]
  },
  {
   "cell_type": "code",
   "execution_count": null,
   "metadata": {
    "id": "GDv7z2tLihSI"
   },
   "outputs": [],
   "source": [
    "li = ['abc', 123, 3.14, True]\n",
    "# delete a list slice\n",
    "del li[1:3]\n",
    "print(li)"
   ]
  },
  {
   "cell_type": "code",
   "execution_count": null,
   "metadata": {
    "id": "9Tdc7sbqii7n"
   },
   "outputs": [],
   "source": [
    "li = [\"Maya\", \"Marc\", \"Kimba\"]\n",
    "print('original:', li)\n",
    "\n",
    "# sorting a list\n",
    "li.sort()\n",
    "print('sorted:', li)\n",
    "# sorts in ascending order (small to large) by default\n",
    "# to sort in descending order, use this syntax:\n",
    "li.sort(reverse=True)\n",
    "print('reverse sorted:', li)\n",
    "li.sort()\n",
    "print('re-sorted:', li)"
   ]
  },
  {
   "cell_type": "markdown",
   "metadata": {},
   "source": [
    "Bei Listen mit unterschiedlichen Typen gibt's dann ein Problem."
   ]
  },
  {
   "cell_type": "code",
   "execution_count": null,
   "metadata": {},
   "outputs": [],
   "source": [
    "li = ['abc', 123, 3.14, True]\n",
    "li.sort()  # This will raise an error\n"
   ]
  },
  {
   "cell_type": "code",
   "execution_count": null,
   "metadata": {
    "id": "C5DPhJDBir9u"
   },
   "outputs": [],
   "source": [
    "li = ['abc', 123, 3.14, 'abc', 'abc', True, 'abc', 123]\n",
    "# get the number of occurrences of a particular value\n",
    "count = li.count('abc')\n",
    "print(count)"
   ]
  },
  {
   "cell_type": "code",
   "execution_count": null,
   "metadata": {
    "id": "5wOspz47itht"
   },
   "outputs": [],
   "source": [
    "li = ['abc', 123, 3.14, True, 123]\n",
    "# get the (first) index of a particular value\n",
    "index = li.index(True)\n",
    "print(index)"
   ]
  },
  {
   "cell_type": "code",
   "execution_count": null,
   "metadata": {
    "id": "3KWj-wv4ivDG"
   },
   "outputs": [],
   "source": [
    "li = ['abc', 123, 3.14, True, 123]\n",
    "# reverse a list\n",
    "li.reverse()\n",
    "print(li)\n",
    "li.reverse()\n",
    "print(li)"
   ]
  },
  {
   "cell_type": "markdown",
   "metadata": {
    "id": "KSivzV8cjnpv"
   },
   "source": [
    "### Verschachtelte Listen\n"
   ]
  },
  {
   "cell_type": "markdown",
   "metadata": {
    "id": "dlT7PoPcdPHK"
   },
   "source": [
    "Genauso wie wir Tupel von Tupeln gesehen haben, können wir auch Listen von Listen haben. Tatsächlich können wir sogar Listen von Tupeln und Tupel von Listen erstellen!\n",
    "\n",
    "* Liste von Listen: `[[1, 2], [3, 4]]`\n",
    "* Liste von Tupeln: `[(1, 2), (3,4)]`\n",
    "* Tupel von Listen: `([1, 2], [3, 4])`\n",
    "\n",
    "Wir können sogar Listen von Listen von Tupeln von Listen von Zeichenketten haben…\n",
    "Du verstehst schon, das kann beliebig komplex werden.\n",
    "Glücklicherweise braucht man die meisten Male nur ein oder zwei Ebenen, auch wenn es gelegentlich notwendig sein kann, tiefer zu gehen.\n"
   ]
  },
  {
   "cell_type": "markdown",
   "metadata": {
    "id": "KLJvThS3ra4G"
   },
   "source": [
    "### Beispiel\n",
    "\n",
    "Stell dir vor, ich möchte eine Liste von Schülern und ihren Quizpunkten führen. Wenn ich nur an einen bestimmten Schüler denke, möchte ich vielleicht den Namen des Schülers und jeden Quizpunkt bis zur aktuellen Lektion speichern. Ich würde eine Liste verwenden, weil ich jede Woche neue Quizpunkte hinzufügen möchte und gelegentlich eine Note ändern muss.\n",
    "\n",
    "Hier sind die Daten für einen Schüler...\n"
   ]
  },
  {
   "cell_type": "code",
   "execution_count": null,
   "metadata": {
    "id": "aQk7obO9xEZP"
   },
   "outputs": [],
   "source": [
    "student = [ 'Kimba', 95, 100, 90 ]\n",
    "print(student)"
   ]
  },
  {
   "cell_type": "markdown",
   "metadata": {
    "id": "RKIPg3wlxPCQ"
   },
   "source": [
    "Aber wir haben viele Schüler, also muss ich für jeden Schüler eine eigene Instanz dieser Liste speichern.\n",
    "Diese Sammlung muss ebenfalls veränderlich sein, da ich im Laufe der Zeit Schüler hinzufügen oder entfernen könnte.\n",
    "\n",
    "Das scheint ein Fall für eine Liste von Listen zu sein, zum Beispiel so...\n"
   ]
  },
  {
   "cell_type": "code",
   "execution_count": null,
   "metadata": {
    "id": "tKC1Z7_IxT1-"
   },
   "outputs": [],
   "source": [
    "students = [\n",
    "    [ 'Kimba', 95, 100, 90 ],\n",
    "    [ 'Maya', 90, 95, 100 ],\n",
    "    [ 'Marc', 85, 90 ]\n",
    "]\n",
    "print(students)"
   ]
  },
  {
   "cell_type": "markdown",
   "metadata": {
    "id": "zkgWQAsvyYY5"
   },
   "source": [
    "Wir können auf eine Teilliste zugreifen, also auf eine der Listen in dieser Liste von Listen, zum Beispiel so...\n"
   ]
  },
  {
   "cell_type": "code",
   "execution_count": null,
   "metadata": {
    "id": "9qt-uYkwxofN"
   },
   "outputs": [],
   "source": [
    "students = [\n",
    "    [ 'Marc', 95, 100, 90 ],\n",
    "    [ 'Maya', 90, 95, 100 ]\n",
    "]\n",
    "student = students[0] # get data for Marc\n",
    "print(student)\n"
   ]
  },
  {
   "cell_type": "markdown",
   "metadata": {
    "id": "XwFWi244x0LX"
   },
   "source": [
    "Wir können auf ein Element einer Teilliste zugreifen, zum Beispiel so...\n"
   ]
  },
  {
   "cell_type": "code",
   "execution_count": null,
   "metadata": {
    "id": "dkhmP_rBx2WM"
   },
   "outputs": [],
   "source": [
    "# get Maya's second test score\n",
    "students = [\n",
    "    [ 'Marc', 95, 100, 90 ],\n",
    "    [ 'Maya', 90, 95, 100 ]\n",
    "]\n",
    "score = students[1][2]\n",
    "print(score)"
   ]
  },
  {
   "cell_type": "markdown",
   "metadata": {
    "id": "RACv6UKsytmK"
   },
   "source": [
    "Lass uns nun eine Tabelle der Durchschnittspunkte für jeden Schüler erstellen, also effektiv die Abschlussnote jedes Schülers...\n"
   ]
  },
  {
   "cell_type": "code",
   "execution_count": null,
   "metadata": {
    "id": "DhX4TnL-kBBV"
   },
   "outputs": [],
   "source": [
    "students = [\n",
    "    [ 'Kimba', 95, 100, 90, 98, 95, 99, 93, 97 ],\n",
    "    [ 'Marc', 90, 95, 100, 90, 100, 93, 74 ],\n",
    "    [ 'Maya', 90, 80, 100, 99, 815]\n",
    "]\n",
    "#print(students)\n",
    "\n",
    "for student in students:\n",
    "  total = 0\n",
    "  count = len(student)\n",
    "  for score in student[1:]:\n",
    "    total += score\n",
    "  average = total / (count - 1)\n",
    "  print(student[0], average)"
   ]
  },
  {
   "cell_type": "markdown",
   "metadata": {},
   "source": [
    "Hier etwas Beispielcode, den Sie jetzt verstehen sollten:"
   ]
  },
  {
   "cell_type": "code",
   "execution_count": null,
   "metadata": {},
   "outputs": [],
   "source": [
    "meine_liste = [3, 1, 4, 1, 5]\n",
    "meine_liste.append(9)           # Hinzufügen von 9\n",
    "meine_liste.remove(1)           # Entfernen von 1\n",
    "meine_liste.insert(2, 2)        # Einfügen von 2 an Position 2\n",
    "meine_liste.sort()              # Sortieren der Liste\n",
    "\n",
    "print(meine_liste)              # Ausgabe: [1, 2, 3, 4, 5, 9]"
   ]
  },
  {
   "cell_type": "markdown",
   "metadata": {
    "id": "Qutim0GBealC"
   },
   "source": [
    "## Wörterbuch (Dictionary)"
   ]
  },
  {
   "cell_type": "markdown",
   "metadata": {
    "id": "a815xmQ8f9Hz"
   },
   "source": [
    "Ein [Wörterbuch (*Dictionary*)](https://docs.python.org/3/library/stdtypes.html#mapping-types-dict) ist eine organisierte Sammlung von Schlüssel-/Wert-Paaren.\n",
    "Die Daten sind für einen schnellen Zugriff über den Schlüssel organisiert, ähnlich wie in einem echten Wörterbuch, bei dem die Wörter die Schlüssel und ihre Definitionen die zugehörigen Werte sind.\n",
    "\n",
    "Wörterbücher werden mit geschweiften Klammern definiert, wobei Schlüssel:Wert-Paare durch Doppelpunkte getrennt sind, zum Beispiel:\n",
    "\n",
    "```\n",
    "websites = {\n",
    "    'google':  'https://google.com',\n",
    "    'youtube': 'https://youtube.com',\n",
    "    'baidu':   'https://baidu.com',\n",
    "}\n",
    "```\n",
    "\n",
    "Dieser Datentyp ist in anderen Programmiersprachen unter verschiedenen Namen bekannt:\n",
    "\n",
    "* map (C++)\n",
    "* hashmap (Java)\n",
    "* assoziatives Array (allgemeiner Begriff)\n",
    "\n",
    "Dieser Objekttyp ist äußerst mächtig zur Darstellung indizierter Daten. Die Schlüssel in einem Wörterbuch sind so angeordnet, dass ein schneller Zugriff über den Schlüsselwert möglich ist.\n",
    "\n",
    "* Sie sind für direkten, nicht sequentiellen Zugriff optimiert\n",
    "* Es gibt keine implizite Reihenfolge der Schlüssel oder Werte\n",
    "* Man kann ein Wörterbuch nicht über die Position indizieren\n",
    "* Aber man kann Wörterbücher über den Schlüsselwert indizieren, wie wir sehen werden\n",
    "* Man kann keine Slices von einem Wörterbuch nehmen\n",
    "* Wörterbücher sind veränderlich (*mutable*), wie Listen, sie können wachsen, schrumpfen oder sich ändern\n",
    "* Schlüssel in einem Wörterbuch müssen unveränderlich sein (z. B. Zeichenkette, Zahl, Tupel), da sich ändernde Schlüssel das Wörterbuch verwirren würden.\n",
    "* Werte in einem Wörterbuch können beliebigen Typs sein (veränderlich oder unveränderlich)."
   ]
  },
  {
   "cell_type": "markdown",
   "metadata": {
    "id": "lidzOmOdgZ1j"
   },
   "source": [
    "### Dictionary-Operationen\n"
   ]
  },
  {
   "cell_type": "code",
   "execution_count": null,
   "metadata": {
    "id": "I7K5Shw6funP"
   },
   "outputs": [],
   "source": [
    "# Create an empty dictionary (use curly braces instead of parens or square brackets)\n",
    "grades = {}\n",
    "print(grades)"
   ]
  },
  {
   "cell_type": "code",
   "execution_count": null,
   "metadata": {
    "id": "2NIXBuQXf5Zi"
   },
   "outputs": [],
   "source": [
    "# Create and initialize a dictionary\n",
    "grades = { 'Marc' : 95, 'Maya': 100 }\n",
    "print(grades)"
   ]
  },
  {
   "cell_type": "code",
   "execution_count": null,
   "metadata": {
    "id": "mGtQ2thnf9xX"
   },
   "outputs": [],
   "source": [
    "# If the same key occurs multiple times, python only keeps the last value\n",
    "x = { 'a' : 1, 'a' : 2 }\n",
    "print(x)\n"
   ]
  },
  {
   "cell_type": "code",
   "execution_count": null,
   "metadata": {
    "id": "fq2dZdklSjIY"
   },
   "outputs": [],
   "source": [
    "# but the same value may appear any number of times.\n",
    "x = { 'a' : 1, 'b' : 1 }\n",
    "print(x)"
   ]
  },
  {
   "cell_type": "code",
   "execution_count": null,
   "metadata": {
    "id": "tB32mA1mgG8d"
   },
   "outputs": [],
   "source": [
    "# Get the size of a dictionary (returns number of key/value pairs)\n",
    "grades = { 'Marc' : 95, 'Maya': 100 }\n",
    "print(len(grades))"
   ]
  },
  {
   "cell_type": "code",
   "execution_count": null,
   "metadata": {
    "id": "f-xpYZw6gKAg"
   },
   "outputs": [],
   "source": [
    "# Retrieve the value associated with a given key\n",
    "grades = { 'Marc' : 95, 'Maya': 100 }\n",
    "grade = grades['Maya']\n",
    "print(grade)"
   ]
  },
  {
   "cell_type": "code",
   "execution_count": null,
   "metadata": {
    "id": "WuBLq6qagPY6"
   },
   "outputs": [],
   "source": [
    "# The value inside the square brackets may be a literal, a variable or any\n",
    "# arbitrary expression. Similar syntax to list/tuple indexing but key based,\n",
    "# not positional.\n",
    "grades = { 'Marc' : 95, 'Maya': 100 }\n",
    "# Attempting to retrieve a non-existent key causes an error\n",
    "x = 'Marc'\n",
    "grades[x]"
   ]
  },
  {
   "cell_type": "code",
   "execution_count": null,
   "metadata": {
    "id": "L84ooapvgjWL"
   },
   "outputs": [],
   "source": [
    "grades = { 'Marc' : 95, 'Maya': 100 }\n",
    "student = 'foo'\n",
    "# play it safe by testing for key existence before access\n",
    "grade = grades[student]\n",
    "if student in grades:\n",
    "  grade = grades[student]\n",
    "  print('grade for', student, 'is', grade)\n",
    "else:\n",
    "  print('student', student, 'not found')\n",
    "\n",
    "# When used with dictionaries, the in operator only checks the existence\n",
    "# of keys, not values. You can also use “not in” to test for non-existence\n",
    "# of a key."
   ]
  },
  {
   "cell_type": "code",
   "execution_count": null,
   "metadata": {
    "id": "4DdUyr4-hAO6"
   },
   "outputs": [],
   "source": [
    "grades = { 'Marc' : 95, 'Maya': 100, 'Kimba': 85 }\n",
    "# loop through a dictionary (this iterates over the dictionary keys)\n",
    "for i in grades:\n",
    "    print(i, grades[i])"
   ]
  },
  {
   "cell_type": "code",
   "execution_count": null,
   "metadata": {
    "id": "rj0K9P4bhB93"
   },
   "outputs": [],
   "source": [
    "grades = { 'Marc' : 95, 'Maya': 100, 'Kimba': 85 }\n",
    "# By default, the keys will appear in random order. You can iterate keys in order by sorting them first:\n",
    "for i in sorted(grades):\n",
    "    print(i, grades[i])"
   ]
  },
  {
   "cell_type": "markdown",
   "metadata": {
    "id": "3SCZ3NtJvHF8"
   },
   "source": [
    "### Dictionaries sind veränderlich"
   ]
  },
  {
   "cell_type": "code",
   "execution_count": null,
   "metadata": {
    "id": "vxNJnz5fhWt8"
   },
   "outputs": [],
   "source": [
    "grades = { 'Marc' : 95, 'Maya': 100 }\n",
    "print('before:', grades)\n",
    "#Add a key/value pair\n",
    "grades['Kimba'] = None # new, no grade yet\n",
    "print('after:', grades)"
   ]
  },
  {
   "cell_type": "code",
   "execution_count": null,
   "metadata": {
    "id": "X9FGHjTwhY3x"
   },
   "outputs": [],
   "source": [
    "grades = { 'Marc' : 95, 'Maya': 100, 'Kimba': None }\n",
    "print('before:', grades)\n",
    "grades['Marc'] = 80 # grade recorded\n",
    "print('after1:', grades)\n",
    "grades['Marc'] += 5 # increment Marc's grade\n",
    "print('after2:', grades)\n",
    "grades['Kimba'] = 99 # change Kimba's grade\n",
    "print('after2:', grades)"
   ]
  },
  {
   "cell_type": "code",
   "execution_count": null,
   "metadata": {
    "id": "ctA4H3MXhbOY"
   },
   "outputs": [],
   "source": [
    "grades = { 'Marc' : 95, 'Maya': 100, 'Kimba': 85 }\n",
    "# delete a key/value pair\n",
    "del grades['Marc'] # Marc dropped the course\n",
    "print(grades)\n"
   ]
  },
  {
   "cell_type": "code",
   "execution_count": null,
   "metadata": {
    "id": "kaXwTSZr8PVa"
   },
   "outputs": [],
   "source": [
    "grades = { 'Marc' : 95, 'Maya': 100, 'Kimba': 85 }\n",
    "# Trying to delete a key that doesn't exist will cause a runtime error.\n",
    "del grades['Fred']"
   ]
  },
  {
   "cell_type": "markdown",
   "metadata": {
    "id": "4Luh_ie4gvHg"
   },
   "source": [
    "### Verschachtelte Wörterbücher\n",
    "\n",
    "Genau wie wir verschachtelte **if**-Anweisungen, verschachtelte Schleifen, verschachtelte Tupel und verschachtelte Listen haben können, können wir auch verschachtelte Wörterbücher erstellen.\n",
    "\n",
    "* Wörterbuch von Tupeln:  `{'key1': (1,2), 'key2': (3,4)}`\n",
    "* Wörterbuch von Listen:  `{'key1': [1,2], 'key2': [3,4]}`\n",
    "* Wörterbuch von Wörterbüchern:\n",
    "\n",
    "```\n",
    "{\n",
    "    'key1' : {\n",
    "      'key1' : [1, 2],\n",
    "      'key2' : [3, 4]\n",
    "    }\n",
    "    'key2' : {\n",
    "      'key1' : [1, 2],\n",
    "      'key2' : [3, 4]  \n",
    "    }\n",
    "}\n",
    "```\n",
    "\n",
    "Dies kann beliebig komplex werden (Wörterbücher von Listen von Tupeln von Wörterbüchern von …).\n",
    "\n",
    "Noch einmal: Stell dir vor, ich möchte eine Liste von Schülern und ihren Quizpunkten führen. Wenn ich nur an einen bestimmten Schüler denke, möchte ich den Namen des Schülers und jeden Quizpunkt bis zur aktuellen Lektion speichern. Ich benötige eine veränderliche Sequenz (d. h. eine Liste), weil ich jede Woche neue Quizpunkte hinzufügen möchte, zum Beispiel:\n",
    "\n",
    "```\n",
    "student = [ 'Jeff', 95, 100, 90 ]\n",
    "```\n",
    "\n",
    "Ich möchte die Testergebnisse nach Schülername organisieren, damit ich die Punkte eines bestimmten Schülers effizient über seinen Namen abrufen kann (d. h. über den Schlüssel im Wörterbuch).\n",
    "\n",
    "Das führt uns zu einem Wörterbuch von Listen:\n",
    "\n",
    "```\n",
    "grades = {\n",
    "           'Marc' : [95, 100, 90],\n",
    "           'Maya' : [90, 95, 100]\n",
    "         }\n",
    "```\n",
    "\n",
    "Um einen Schüler hinzuzufügen:\n",
    "\n",
    "```\n",
    "grades[student] = []\n",
    "```\n",
    "\n",
    "Um einen Schüler zu löschen:\n",
    "\n",
    "```\n",
    "del grades[student]\n",
    "```\n",
    "\n",
    "Um eine neue Punktzahl für einen Schüler hinzuzufügen:\n",
    "\n",
    "```\n",
    "grades[student].append(new_score)\n",
    "```\n",
    "\n",
    "Um die 2. Quizpunktzahl eines Schülers zu ersetzen:\n",
    "\n",
    "```\n",
    "grades[student][1] = new_score\n",
    "```\n"
   ]
  },
  {
   "cell_type": "markdown",
   "metadata": {
    "id": "d1BiJFOY5uKc"
   },
   "source": [
    "## Faustregel für den Wahrheitswert von Tupeln, Listen und Wörterbüchern\n"
   ]
  },
  {
   "cell_type": "markdown",
   "metadata": {
    "id": "YRZI1Ve7zUJw"
   },
   "source": [
    "Alle diese Objekte können als boolesche Werte verwendet werden. Die Regeln zur Umwandlung eines Tupels, einer Liste oder eines Wörterbuchs in einen booleschen Wert lauten wie folgt:\n",
    "\n",
    "* Ist das Objekt leer, wird es als **False** ausgewertet\n",
    "* Ist das Objekt nicht leer, wird es als **True** ausgewertet\n"
   ]
  },
  {
   "cell_type": "code",
   "execution_count": null,
   "metadata": {
    "id": "1xaW489fbHTL"
   },
   "outputs": [],
   "source": [
    "def empty(collection):\n",
    "  if collection:\n",
    "    return 'is NOT empty.'\n",
    "  else:\n",
    "    return 'is empty.'\n",
    "\n",
    "print('tuple test...')\n",
    "for i in (), (1,2,3), ('a', 1), (None,):\n",
    "  print(i, empty(i))"
   ]
  },
  {
   "cell_type": "code",
   "execution_count": null,
   "metadata": {
    "id": "xb_0X9Vw9AHZ"
   },
   "outputs": [],
   "source": [
    "def empty(collection):\n",
    "  if collection:\n",
    "    return 'is NOT empty.'\n",
    "  else:\n",
    "    return 'is empty.'\n",
    "\n",
    "print('list test...')\n",
    "for i in [], [1,2,3], ['a', 1], [None]:\n",
    "  print(i, empty(i))\n"
   ]
  },
  {
   "cell_type": "code",
   "execution_count": null,
   "metadata": {
    "id": "knhDAp5E9Bs7"
   },
   "outputs": [],
   "source": [
    "def empty(collection):\n",
    "  if collection:\n",
    "    return 'is NOT empty.'\n",
    "  else:\n",
    "    return 'is empty.'\n",
    "\n",
    "print('dictionary test...')\n",
    "for i in {}, {1: 2, 3: 4}, {'a':1, 'b':2, 'c':3}, {None:None}:\n",
    "  print(i, empty(i))"
   ]
  }
 ],
 "metadata": {
  "colab": {
   "collapsed_sections": [
    "4Luh_ie4gvHg",
    "GxuBq4rieILq",
    "OQdffMStfFS0",
    "Rpn2Dq5fer0h",
    "o8R0bgA8gEUw",
    "hP01xLLPg3na",
    "0mFxWXro9i_E",
    "Dd1FNOpnK0-D",
    "dRrZ0vmT-a_x",
    "iT2xKwolaXTh"
   ],
   "provenance": [],
   "toc_visible": true
  },
  "kernelspec": {
   "display_name": "base",
   "language": "python",
   "name": "python3"
  },
  "language_info": {
   "codemirror_mode": {
    "name": "ipython",
    "version": 3
   },
   "file_extension": ".py",
   "mimetype": "text/x-python",
   "name": "python",
   "nbconvert_exporter": "python",
   "pygments_lexer": "ipython3",
   "version": "3.12.2"
  }
 },
 "nbformat": 4,
 "nbformat_minor": 0
}
