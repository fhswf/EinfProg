{
 "cells": [
  {
   "cell_type": "markdown",
   "metadata": {},
   "source": [
    "<figure>\n",
    "  <IMG SRC=\"https://upload.wikimedia.org/wikipedia/commons/thumb/d/d5/Fachhochschule_Südwestfalen_20xx_logo.svg/320px-Fachhochschule_Südwestfalen_20xx_logo.svg.png\" WIDTH=250 ALIGN=\"right\">\n",
    "</figure>\n",
    "\n",
    "# Einführung in die Programmierung\n",
    "### Winterersemester 2025/26\n",
    "Prof. Dr. Stefan Goetze"
   ]
  },
  {
   "cell_type": "markdown",
   "metadata": {},
   "source": [
    "\n"
   ]
  },
  {
   "cell_type": "markdown",
   "metadata": {},
   "source": [
    "# Verwendung von `for` Schleifen\n",
    "\n",
    "In diesem Notebook wollen wir die Verwendung von `for()`-Schleifen üben. Bearbeiten Sie dazu bitte die folgenden Aufgaben.\n",
    "\n",
    "## Aufgabe 1: Erzeugung einer ASCII-Tabelle\n",
    "\n",
    "Schreiben Sie Python Code, der in $32$ Zeilen eine vierspaltige ASCII-Tabelle ausgibt (siehe Liste $2.1$), die jeweils den [oktalen](https://de.wikipedia.org/wiki/Oktalsystem) , [dezimalen](https://de.wikipedia.org/wiki/Dezimalsystem) und [hexadezimalen](https://de.wikipedia.org/wiki/Hexadezimalsystem) Zahlenwert eines Zeichens (dreistellig mit führenden Nullen) und das zugehörige abdruckbare Zeichen enthält. Anstelle der nicht darstellbaren Steuerzeichen ($0-31$, $127$) sollen drei Punkte ausgegeben werden.\n",
    "\n",
    "Liste $1$: Programmausgabe: ASCII-Tabelle\n",
    "```\n",
    "*** ASCII-Tabelle ***\n",
    "\n",
    "Okt   Dez   Hex    Zch    Okt   Dez   Hex    Zch    Okt   Dez   Hex    Zch    Okt   Dez   Hex    Zch   \n",
    "----------------------------------------------------------------------------------------------------\n",
    "000   000   000    ...    040   032   020           100   064   040     @     140   096   060     `    \n",
    "001   001   001    ...    041   033   021     !     101   065   041     A     141   097   061     a    \n",
    "002   002   002    ...    042   034   022     \"     102   066   042     B     142   098   062     b    \n",
    "003   003   003    ...    043   035   023     #     103   067   043     C     143   099   063     c    \n",
    "004   004   004    ...    044   036   024     $     104   068   044     D     144   100   064     d    \n",
    "005   005   005    ...    045   037   025     %     105   069   045     E     145   101   065     e    \n",
    "006   006   006    ...    046   038   026     &     106   070   046     F     146   102   066     f    \n",
    "\n",
    "    ...\n",
    "\n",
    "034   028   01C    ...    074   060   03C     <     134   092   05C     \\     174   124   07C     |    \n",
    "035   029   01D    ...    075   061   03D     =     135   093   05D     ]     175   125   07D     }    \n",
    "036   030   01E    ...    076   062   03E     >     136   094   05E     ^     176   126   07E     ~    \n",
    "037   031   01F    ...    077   063   03F     ?     137   095   05F     _     177   127   07F    ...\n",
    "```\n",
    "\n",
    "Lösen Sie hierzu zunächst die Grundaufgabe, die darin besteht, eine Ausgabe in Form der Liste $2$ zu erzeugen (Zahlen im [Dezimalsystem](https://de.wikipedia.org/wiki/Dezimalsystem)). In den einzelnen Zeilen haben nebeneinanderstehende Werte (im Dezimalsystem) sowohl in Liste $1$ wie auch in Liste $2$ die Differenz $32$. \n",
    "\n",
    "Liste $2$: Tabelle mit der Grundstruktur\n",
    "```\n",
    "000 032 064  096\n",
    "001 033 065  097\n",
    "002 034 066  098\n",
    "003 035 067  099\n",
    "\n",
    "    ...\n",
    "\n",
    "029 061 093  125\n",
    "030 062 094  126\n",
    "031 063 095  127\n",
    "```\n",
    "\n",
    "Im zweiten Schritt werden die einzelnen Werte durch die oben genannten vier Werte ersetzt und der Tabellenkopf ergänzt.\n",
    "\n",
    "Über die ASCII-Codierung informiert unter anderem die Wikipedia-Seite [American Standard Code for Information Interchange](https://de.wikipedia.org/wiki/American_Standard_Code_for_Information_Interchange).\n",
    "\n",
    "<b><u>Tipps</u></b><br>\n",
    "\n",
    "Die Dezimal-, Oktal- und Hexadezimalzahlen müssen mit führenden '0' auf $3$ Stellen aufgefüllt werden.\n",
    "\n",
    "Das ist bei Dezimalzahlen [formatierten Strings](https://docs.python.org/3/tutorial/inputoutput.html#tut-f-strings) `f\"..:\"` \"relativ\" einfach mit einer Formatanweisung möglich.\n",
    "\n",
    "Bei den Oktal- und Hexadezimalzahlen benötigen Sie zunächst eine [Funktion (die in Python mit dem Keyword `def` definiert wird)](https://docs.python.org/3/tutorial/controlflow.html#defining-functions), die die Zahl konvertiert.<br>\n",
    "Die Ausgabe kann anschließend als String weiter bearbeitet werden:<br>\n",
    "Zuerst müssen die führenden Zeichen \"0o\" und \"0x\" aus dem String entfernt werden.<br>\n",
    "Anschließend kann die Funktion [`zfill()`](https://docs.python.org/3/library/stdtypes.html#str.zfill) verwendet werden, um den String mit einer Anzahl führender Nullen aufzufüllen."
   ]
  },
  {
   "cell_type": "code",
   "execution_count": null,
   "metadata": {},
   "outputs": [],
   "source": [
    "# Erzeuge die ASCII-Tabelle in 4 Spalten und 32 Zeilen\n",
    "def print_ascii_table():\n",
    "# YOUR CODE HERE\n",
    "raise NotImplementedError()\n",
    "\n",
    "# Tabelle ausgeben\n",
    "print_ascii_table()\n"
   ]
  },
  {
   "cell_type": "markdown",
   "metadata": {},
   "source": [
    "## Aufgabe 2: Rundungsfehler durch fortgesetzte Multiplikation/Division\n",
    "Schreiben Sie ein Programm, in welchem die float-Zahl `x = 106` in einer ersten Schleife $10$-mal mit dem float-Faktor `k = 0.1693` multipliziert wird. Das Ergebnis erhaltene wird danach in einer zweiten Schleife $10$-mal durch den selben Faktor `k` dividiert. Theoretisch müßte danach `x` wieder den Ausgangswert $106$ enthalten.\n",
    "Geben Sie den Ausgangswert und den Endwert von `x` mit jeweils acht Nachkommastellen aus und vergleichen Sie die Werte.\n",
    "\n",
    "<u><b>Wichtiger Hinweis</b></u><br>\n",
    "Eine Reihe von Programmiersprachen unterscheidet Fließkommazahlen mit unterschiedlicher Genauigkeit, abhängig davon, wie viele Bits intern für die Speicherung verwendet werden.<br>\n",
    "Man unterscheidet\n",
    "\n",
    "| Typ         | Genauigkeit |\n",
    "|:------------|:-----------:|\n",
    "| float       |  ($32$ Bit) |\n",
    "| double      |  ($64$ Bit) |\n",
    "| long double |  ($80$ Bit) |\n",
    "\n",
    "Mit dieser Unterscheidung verwenden die Programmiersprachen die entsprechenden Fließkomma-Datentypen, mit denen die [CPU](https://de.wikipedia.org/wiki/Prozessor) (genauer die [FPU](https://de.wikipedia.org/wiki/Gleitkommaeinheit) des Prozessors des Rechners umgehen kann.<br>\n",
    "\n",
    "Python verwendet nur dem CPU-internen Datentypen mit $64$ Bit Genauigkeit und nennt diesen `float`!\n",
    "\n",
    "Geben Sie die gesuchten Werte mit $20$ Nachkommastellen aus. Berechnen Sie auch die Differenz zwischen Anfangs- und Endwert, um diese genau erkennen zu"
   ]
  },
  {
   "cell_type": "code",
   "execution_count": null,
   "metadata": {},
   "outputs": [],
   "source": [
    "fact = 0.1693\n",
    "def float_mul(x):\n",
    "# YOUR CODE HERE\n",
    "raise NotImplementedError()\n",
    "\n",
    "def float_div(x):\n",
    "# YOUR CODE HERE\n",
    "raise NotImplementedError()\n",
    "\n",
    "start = float(106)\n",
    "end = float_div(float_mul(start))\n",
    "\n",
    "bez=\"Startwert\"\n",
    "print(f\"{bez:<10} = {start:25.20f}\")\n",
    "bez=\"Endwert\"\n",
    "print(f\"{bez:<10} = {end:25.20f}\")\n",
    "bez=\"Differenz\"\n",
    "print(f\"{bez:<10} = {(end-start):25.20f}\")\n"
   ]
  },
  {
   "cell_type": "markdown",
   "metadata": {},
   "source": [
    "## Aufgabe 3: Steuerung einer for-Schleife\n",
    "\n",
    "\n",
    "<center>\n",
    "\n",
    "<img src=\"https://raw.githubusercontent.com/fhswf/EinfProg/refs/heads/main/p2/figures/area_under_curve.png\" alt=\"Fläche unter Parabel\" width=\"400px\">\n",
    "\n",
    "<div>Abbildung 1: Fläche unter Parabel</div>\n",
    "</center>\n",
    "\n",
    "\n",
    "Für die Funktion $f(x) = x^2$ soll im Bereich von $x = 0 . . . 30$ die **Fläche** zwischen der Funktionskurve und der $x$-Achse durch eine Annäherung bestimmt werden (siehe Abbildung $1$). Dazu wird das $x$-Intervall [0, 30] in 250 Teilintervalle der Länge $∆x = 30/250 = 0.12$ eingeteilt und die Funktion an den $251$ Teilungspunkten $x_{0}$ bis $x_{250}$ ausgewertet.\n",
    "Die Gesamtfläche $F$ wird dabei als Summe der $250$ Teilflächen $F_{1}$ bis $F_{250}$ berechnet. Eine Teilfläche $F_{i}$ wird aus ihrem linken und ihrem rechten Funktionswert gemäß der Formel\n",
    "$$\n",
    "f_{i} = \\frac{1}{2} \\cdot \\left(f(x_{i-1}) +f(x_{i})\\right) \\cdot ∆x\n",
    "$$\n",
    "bestimmt (Trapezfläche).\n",
    "\n",
    "Die Teilungspunkte $x_{i}$ und die dazugehörigen Funktionswerte $f(x_{i})$ sollen in einer `for`-Schleife berechnet werden. Dazu wird ein ganzzahliger Schleifenzähler `i` verwendet. Das laufende $x_{i}$ wird durch Multiplikation des Schleifenzählers mit der Intervalllänge ermittelt: $x_{i} = i \\cdot \\Delta x$. Dadurch hängt der aktuelle Wert von $x_{i}$ nur von einer Multiplikation ab.\n",
    "\n",
    "Die durch Integralrechnung ermittelte, exakte Fläche unter der Kurve beträgt $9000$ Einheiten. Da es sich bei der hier verwendeten Berechnung um eine Näherung handelt, wird dieser Wert nur näherungsweise erreicht.\n",
    "\n",
    "Schreiben Sie ein Programm für diese Flächenberechnung und geben Sie den ersten und den letzten verwendeten $x$-Wert und die errechnete Fläche mit jeweils zehn Stellen nach dem Komma aus.\n",
    "\n",
    "Verwenden Sie zur Berechnung die Funktion `f`:\n",
    "```Python\n",
    "def f ( x ):\n",
    "    return x*x\n",
    " \n",
    " ```\n",
    " -----"
   ]
  },
  {
   "cell_type": "code",
   "execution_count": null,
   "metadata": {},
   "outputs": [],
   "source": [
    "def f (x):\n",
    "    return x*x\n",
    "\n",
    "def flaeche ():\n",
    "# YOUR CODE HERE\n",
    "raise NotImplementedError()\n",
    "        \n",
    "print(f\"Fläche = {flaeche():10}\")\n"
   ]
  },
  {
   "cell_type": "code",
   "execution_count": null,
   "metadata": {},
   "outputs": [],
   "source": [
    "import math\n",
    "# Prüfung des Ergebnisses\n",
    "# Haken: OK\n",
    "# AssertionError: Berechnung fehlerhaft\n"
   ]
  },
  {
   "cell_type": "markdown",
   "metadata": {},
   "source": [
    "## Aufgabe 3: Bildbearbeitung 🎨🖼️✨ mit Schleifen\n",
    "\n",
    "Wir wollen ein Bild pixelweise bearbeiten. Erstellen Sie ein Programm, das ein Bild lädt und dann durch jeden einzelnen Pixel des Bildes iteriert. Erstellen Sie dazu eine Schleife, die durch alle Pixel des Bildes iteriert.\n",
    "\n",
    "- Wenden Sie die folgenden Effekte auf die Pixel an:\n",
    "    - **Rot-Filter:** Erhöhen Sie den Rotanteil jedes Pixels um 50%, aber achten Sie darauf, dass der Wert $255$ nicht überschreitet.\n",
    "    - **Schwarz-Weiß:** Setzen Sie jeden Pixel so, dass er grau wird.\n",
    "    - **Invertieren:** Setzen Sie jeden Pixel so, dass er sein komplementäres Farbwert erhält (255 minus den RGB-Wert).\n",
    "    \n",
    "Der Code zum Laden und Anzeigen des Bildes ist bereits in der folgenden Code-Zelle gegeben und muss nicht unbedingt vollständig verstanden werden. "
   ]
  },
  {
   "cell_type": "code",
   "execution_count": null,
   "metadata": {},
   "outputs": [],
   "source": [
    "#@title Python Code zum Herunterladen (von einer Webseite), Laden und Speichern (von/auf Festplatte) und Anzeigen von Bildern \n",
    "\n",
    "import requests                   # Bibliothek zum Durchführen von HTTP-Anfragen\n",
    "from PIL import Image             # Bildverarbeitungsbibliothek\n",
    "import matplotlib.pyplot as plt   # Bibliothek zum Anzeigen von Bildern\n",
    "\n",
    "def download_image(url, save_path):\n",
    "    \"\"\" Lädt ein Bild von der angegebenen URL herunter und speichert es unter dem angegebenen Pfad.\"\"\"\n",
    "    try:\n",
    "        # HTTP GET-Anfrage an die Bild-URL\n",
    "        response = requests.get(url)\n",
    "        response.raise_for_status()  # Prüfen, ob die Anfrage erfolgreich war\n",
    "\n",
    "        # Bildinhalt speichern\n",
    "        with open(save_path, 'wb') as file:\n",
    "            file.write(response.content)\n",
    "        \n",
    "        print(f\"Bild erfolgreich heruntergeladen und gespeichert als '{save_path}'!\")\n",
    "    \n",
    "    except requests.exceptions.RequestException as e:\n",
    "        print(f\"Fehler beim Herunterladen des Bildes: {e}\")\n",
    "\n",
    "def load_image(image_path):\n",
    "    \"\"\" Lädt ein Bild von dem angegebenen Pfad.\"\"\"\n",
    "    return Image.open(image_path)\n",
    "\n",
    "def save_image(image, new_path):\n",
    "    \"\"\" Speichert das Bild unter dem neuen Pfad.\"\"\"\n",
    "    image.save(new_path)\n",
    "\n",
    "def show_image(image):\n",
    "    \"\"\" Zeigt das Bild an.\"\"\"\n",
    "    if image.mode == 'L':\n",
    "        plt.imshow(image, cmap='gray')  # Verwende das 'gray'-Colormap für die Anzeige\n",
    "    else:\n",
    "        plt.imshow(image) # Anzeige des Bildes im Farbmodus\n",
    "    plt.axis('off')  # Achsen ausblenden\n",
    "    plt.show()"
   ]
  },
  {
   "cell_type": "code",
   "execution_count": null,
   "metadata": {},
   "outputs": [],
   "source": [
    "# Bild aus dem Web auf die Festplatte herunterladen\n",
    "image_url = \"https://www.fh-swf.de/media/neu_np/allgemein_8/bilder_neu/iserlohn_np/gebaeude_3/FH-SWF-Iserlohn-0727_media_gallery_l.webp\"\n",
    "image_path = \"FH-SWF-Iserlohn.webp\"  # Der Name, unter dem das Bild gespeichert werden soll\n",
    "download_image(image_url, image_path)\n",
    "\n",
    "# Bild von der Festplatte laden\n",
    "image = load_image(image_path)\n",
    "\n",
    "# Bild anzeigen\n",
    "show_image(image)"
   ]
  },
  {
   "cell_type": "markdown",
   "metadata": {},
   "source": [
    "### Rot-Filter anwenden\n",
    "\n",
    "Nachdem wir das Bild erfolgreich angezeigt haben wollen wir unseren ersten Filter anwenden um den Rotanteil im Bild zu erhöhen.\n",
    "\n",
    "Ein Farbbild besteht aus den Anteilen *Rot*, *Grün* und *Blau*. Die Werte dieser Anteile erhalten wir durch `r, g, b = pixels[i, j]` wobei `i` und `j` den jeweiligen Pixelindex angibt. Die Höhe und Breite des Bildes, die wir für unsere Schleife brauchenn, ist in `image.width` und `image.height` verfügbar.\n",
    "\n",
    "Erhöhen Sie den Rotanteil jedes Pixels um 50%, aber achten Sie darauf, dass der Wert $255$ (den Maximalwert für jede Farbe) nicht überschreitet. Dies können Sie durch die Funktion [`min()`](https://docs.python.org/3/library/functions.html#min) sicher stellen."
   ]
  },
  {
   "cell_type": "code",
   "execution_count": null,
   "metadata": {},
   "outputs": [],
   "source": [
    "def apply_red_filter(image):\n",
    "    pixels = image.load()  # Zugreifen auf die Pixeldaten\n",
    "    # Durch alle Pixel des ursprünglichen Bildes iterieren\n",
    "    # YOUR CODE HERE\n",
    "    raise NotImplementedError()\n",
    "    return image\n",
    "\n",
    "image_red = apply_red_filter(image)\n",
    "show_image(image_red)\n",
    "#save_image(image_red, \"FH-SWF-Iserlohn_red_filter.webp\")"
   ]
  },
  {
   "cell_type": "markdown",
   "metadata": {},
   "source": [
    "### Bild in Schwarzweiß umwandeln\n",
    "\n",
    "Verändern Sie nun jeden Pixel so, dass er grau wird. \n",
    "\n",
    "Sie könen hierzu den Mittelwert der RGB-Werte nehmen oder den Graustufenwert wird mit den Faktoren (0.2989, 0.5870, 0.1140) berechnen, die den menschlichen Wahrnehmungen der Farben entsprechen: `gray_value = int(0.2989 * r + 0.5870 * g + 0.1140 * b)`."
   ]
  },
  {
   "cell_type": "code",
   "execution_count": null,
   "metadata": {},
   "outputs": [],
   "source": [
    "def apply_grayscale(image):\n",
    "    # Neue leere Graustufenbild erstellen\n",
    "    gray_image = Image.new(\"L\", (image.width, image.height)) # Erstellt ein neues Bild im Graustufenformat (\"L\" steht für Luminanz (bzw. Graustufenmodus))\n",
    "    pixels = gray_image.load()  # Zugriff auf die Pixeldaten des neuen Bildes\n",
    "    \n",
    "    # Durch alle Pixel des ursprünglichen Bildes iterieren\n",
    "    # YOUR CODE HERE\n",
    "    raise NotImplementedError()\n",
    "    return gray_image\n",
    "\n",
    "image_grayscale = apply_grayscale(image)\n",
    "show_image(image_grayscale)\n",
    "save_image(image_grayscale, \"FH-SWF-Iserlohn_grayscale.webp\")"
   ]
  },
  {
   "cell_type": "markdown",
   "metadata": {},
   "source": [
    "### Zusatzaufgabe\n",
    "\n",
    "Implementiere ein \"Mosaik\"-Feature, das benachbarte Pixel in großen Blöcken zusammenführt (z.B. 5x5 Pixel).\n",
    "\n",
    "Die folgenden Schritte sind dazu durchzuführen:\n",
    "- Implementieren Sie eine äußere Schleife: Iteriert durch das Bild in Schritten von block_size (in diesem Fall $10$).\n",
    "- Implementieren Sie eine innere Schleifen: Iteriert durch die Pixel innerhalb jedes Blocks, um die RGB-Werte zu summieren.\n",
    "- Durchschnitt berechnen: Der Durchschnitt der Farbwerte wird berechnet, indem die Gesamtwerte durch die Anzahl der Pixel im Block dividiert werden.\n",
    "- Setzen der Durchschnittswerte: Alle Pixel im Block werden mit den berechneten Durchschnittswerten gefüllt."
   ]
  },
  {
   "cell_type": "code",
   "execution_count": null,
   "metadata": {},
   "outputs": [],
   "source": [
    "def apply_mosaic(image, block_size=10):\n",
    "    # Neue leere Mosaik-Bild erstellen\n",
    "    mosaic_image = Image.new(\"RGB\", (image.width, image.height)) # Erstellt ein neues Bild im RGB-Format\n",
    "    pixels = mosaic_image.load()  # Zugriff auf die Pixeldaten des neuen Bildes\n",
    "\n",
    "    # Durch das Bild in Schritten des block_size iterieren\n",
    "    # YOUR CODE HERE\n",
    "    raise NotImplementedError()\n",
    "    return mosaic_image\n",
    "\n",
    "image_mosaic = apply_mosaic(image, block_size=10)\n",
    "show_image(image_mosaic)\n",
    "#save_image(image_mosaic, \"FH-SWF-Iserlohn_mosaic.webp\")"
   ]
  }
 ],
 "metadata": {
  "kernelspec": {
   "display_name": "base",
   "language": "python",
   "name": "python3"
  },
  "language_info": {
   "codemirror_mode": {
    "name": "ipython",
    "version": 3
   },
   "file_extension": ".py",
   "mimetype": "text/x-python",
   "name": "python",
   "nbconvert_exporter": "python",
   "pygments_lexer": "ipython3",
   "version": "3.12.2"
  },
  "varInspector": {
   "cols": {
    "lenName": 16,
    "lenType": 16,
    "lenVar": 40
   },
   "kernels_config": {
    "python": {
     "delete_cmd_postfix": "",
     "delete_cmd_prefix": "del ",
     "library": "var_list.py",
     "varRefreshCmd": "print(var_dic_list())"
    },
    "r": {
     "delete_cmd_postfix": ") ",
     "delete_cmd_prefix": "rm(",
     "library": "var_list.r",
     "varRefreshCmd": "cat(var_dic_list()) "
    }
   },
   "types_to_exclude": [
    "module",
    "function",
    "builtin_function_or_method",
    "instance",
    "_Feature"
   ],
   "window_display": false
  }
 },
 "nbformat": 4,
 "nbformat_minor": 4
}
