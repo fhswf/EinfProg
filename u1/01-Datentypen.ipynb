{
 "cells": [
  {
   "cell_type": "markdown",
   "id": "cf40b7c4",
   "metadata": {},
   "source": [
    "<figure>\n",
    "  <IMG SRC=\"https://upload.wikimedia.org/wikipedia/commons/thumb/d/d5/Fachhochschule_Südwestfalen_20xx_logo.svg/320px-Fachhochschule_Südwestfalen_20xx_logo.svg.png\" WIDTH=250 ALIGN=\"right\">\n",
    "</figure>\n",
    "\n",
    "# Einführung in die Programmierung\n",
    "### Winterersemester 2025/25\n",
    "Prof. Dr. Stefan Goetze"
   ]
  },
  {
   "cell_type": "markdown",
   "metadata": {},
   "source": [
    "# Grundlegende Datentypen\n",
    "\n",
    "Python ist eine dynamisch typisierte Sprache. Das bedeutet, dass Sie nicht im Voraus festlegen müssen, welche Art von Daten Sie in einer Variable speichern möchten. Dennoch gibt es einige grundlegende Datentypen, mit denen wir uns bei der Verwendung der Sprache vertraut machen müssen. Die ersten Datentypen ähneln denen anderer Sprachen (wie C/C++ und Fortran): Gleitkommazahlen, Ganzzahlen und Zeichenfolgen."
   ]
  },
  {
   "cell_type": "markdown",
   "metadata": {},
   "source": [
    "## Fließkommazahlen\n",
    "\n",
    "\n",
    "Gleitkommazahlen sind für die Informatik von entscheidender Bedeutung. Für diejenigen, die sich noch weitere Deteils dazu ansehen wollen: Eine hervorragende Einführung in die Gleitkommazahlen und ihre Grenzen bietet D. Goldberg: [What every computer scientist should know about floating-point\n",
    "arithmetic](http://dl.acm.org/citation.cfm?id=103163) by\n",
    "D. Goldberg."
   ]
  },
  {
   "cell_type": "markdown",
   "metadata": {},
   "source": [
    "Die nächsten Datentypen sind Container. Im Gegensatz zu einigen anderen Sprachen sind diese in Python integriert und erleichtern die Durchführung komplexer Operationen. Wir werden uns diese später genauer ansehen.\n",
    "\n",
    "Einige Beispiele stammen aus dem Python-Tutorial:\n",
    "http://docs.python.org/3/tutorial/\n",
    "\n",
    "## Ganzzahlen\n",
    "\n",
    "Ganzzahlen sind Zahlen ohne Dezimalpunkt. Sie können positiv oder negativ sein. Die meisten Programmiersprachen verwenden einen begrenzten Speicher für die Speicherung einzelner Ganzzahlen. Python erweitert den Speicher jedoch bei Bedarf, um große Ganzzahlen zu speichern.\n",
    "\n",
    "Die grundlegenden Operatoren „+“, „-“, „*“ und „/“ funktionieren mit Ganzzahlen."
   ]
  },
  {
   "cell_type": "code",
   "execution_count": 62,
   "metadata": {},
   "outputs": [
    {
     "data": {
      "text/plain": [
       "7"
      ]
     },
     "execution_count": 62,
     "metadata": {},
     "output_type": "execute_result"
    }
   ],
   "source": [
    "2+2+3"
   ]
  },
  {
   "cell_type": "code",
   "execution_count": 63,
   "metadata": {},
   "outputs": [
    {
     "data": {
      "text/plain": [
       "-8"
      ]
     },
     "execution_count": 63,
     "metadata": {},
     "output_type": "execute_result"
    }
   ],
   "source": [
    "2*-4"
   ]
  },
  {
   "cell_type": "markdown",
   "metadata": {},
   "source": [
    "\n",
    "Die *Ganzzahldivision* ist ein Punkt, in dem sich Python und andere Programmiersprachen unterscheiden.\n",
    "\n",
    "In Python ergibt die Division zweier Ganzzahlen eine Gleitkommazahl. In C/C++/Fortran ergibt die Division zweier Ganzzahlen eine Ganzzahl, also `1/2 = 0`."
   ]
  },
  {
   "cell_type": "code",
   "execution_count": 64,
   "metadata": {},
   "outputs": [
    {
     "data": {
      "text/plain": [
       "0.5"
      ]
     },
     "execution_count": 64,
     "metadata": {},
     "output_type": "execute_result"
    }
   ],
   "source": [
    "1/2"
   ]
  },
  {
   "cell_type": "markdown",
   "metadata": {},
   "source": [
    "Um ein ganzzahliges Ergebnis zu erhalten, können wir den Operator `//` verwenden."
   ]
  },
  {
   "cell_type": "code",
   "execution_count": 65,
   "metadata": {},
   "outputs": [
    {
     "data": {
      "text/plain": [
       "0"
      ]
     },
     "execution_count": 65,
     "metadata": {},
     "output_type": "execute_result"
    }
   ],
   "source": [
    "1//2"
   ]
  },
  {
   "cell_type": "markdown",
   "metadata": {},
   "source": [
    "Python ist eine *dynamisch typisierte* Sprache. Das bedeutet, dass wir den Datentyp einer Variable vor der Initialisierung nicht deklarieren müssen.\n",
    "\n",
    "Hier erstellen wir eine Variable (eine beschreibende Bezeichnung, die auf bestimmte Daten verweisen kann). Der Operator „=“ weist einer Variablen einen Wert zu."
   ]
  },
  {
   "cell_type": "code",
   "execution_count": 66,
   "metadata": {},
   "outputs": [],
   "source": [
    "a = 1\n",
    "b = 2"
   ]
  },
  {
   "cell_type": "markdown",
   "metadata": {},
   "source": [
    "Funktionen arbeiten mit Variablen und geben ein Ergebnis zurück. Teilweise werden und Berechnung in Jupyter direkt zurückgegeben, wir können aber in jedem Fall den `print()` Befehl nutzen um eine Ausgabe auf dem Bildschirm zu erhalten."
   ]
  },
  {
   "cell_type": "code",
   "execution_count": 67,
   "metadata": {},
   "outputs": [
    {
     "data": {
      "text/plain": [
       "3"
      ]
     },
     "execution_count": 67,
     "metadata": {},
     "output_type": "execute_result"
    }
   ],
   "source": [
    "a + b"
   ]
  },
  {
   "cell_type": "code",
   "execution_count": 68,
   "metadata": {},
   "outputs": [
    {
     "data": {
      "text/plain": [
       "2"
      ]
     },
     "execution_count": 68,
     "metadata": {},
     "output_type": "execute_result"
    }
   ],
   "source": [
    "a * b"
   ]
  },
  {
   "cell_type": "markdown",
   "metadata": {},
   "source": [
    "Beachten Sie, dass bei Variablennamen die Groß- und Kleinschreibung beachtet wird. Daher sind `a` und `A` unterschiedlich."
   ]
  },
  {
   "cell_type": "code",
   "execution_count": 69,
   "metadata": {},
   "outputs": [],
   "source": [
    "A = 2048"
   ]
  },
  {
   "cell_type": "code",
   "execution_count": 70,
   "metadata": {},
   "outputs": [
    {
     "name": "stdout",
     "output_type": "stream",
     "text": [
      "1 2048\n"
     ]
    }
   ],
   "source": [
    "print(a, A)"
   ]
  },
  {
   "cell_type": "markdown",
   "metadata": {},
   "source": [
    "Im folgenden Codeblock initialisieren wir $3$ Variablen, alle auf „$0$“, aber es handelt sich immer noch um unterschiedliche Variablen, sodass wir eine ändern können, ohne die anderen zu beeinflussen."
   ]
  },
  {
   "cell_type": "code",
   "execution_count": 71,
   "metadata": {},
   "outputs": [],
   "source": [
    "x = y = z = 0"
   ]
  },
  {
   "cell_type": "code",
   "execution_count": 72,
   "metadata": {},
   "outputs": [
    {
     "name": "stdout",
     "output_type": "stream",
     "text": [
      "0 0 0\n"
     ]
    }
   ],
   "source": [
    "print(x, y, z)"
   ]
  },
  {
   "cell_type": "code",
   "execution_count": 73,
   "metadata": {},
   "outputs": [],
   "source": [
    "z = 1"
   ]
  },
  {
   "cell_type": "code",
   "execution_count": 74,
   "metadata": {},
   "outputs": [
    {
     "data": {
      "text/plain": [
       "1"
      ]
     },
     "execution_count": 74,
     "metadata": {},
     "output_type": "execute_result"
    }
   ],
   "source": [
    "z"
   ]
  },
  {
   "cell_type": "markdown",
   "metadata": {},
   "source": [
    "Python bietet integrierte Hilfe (und Jupyter/iPython sogar noch mehr).\n",
    "\n",
    "Versuchen Sie Folgendes:\n",
    "```\n",
    "help(x)\n",
    "```"
   ]
  },
  {
   "cell_type": "code",
   "execution_count": null,
   "metadata": {},
   "outputs": [],
   "source": []
  },
  {
   "cell_type": "markdown",
   "metadata": {
    "cell_style": "center"
   },
   "source": [
    "Alternativ können Sie Folgendes versuchen:\n",
    "```\n",
    "x?\n",
    "```\n",
    "\n",
    "(Funktioniert nur in Jupyter)"
   ]
  },
  {
   "cell_type": "code",
   "execution_count": null,
   "metadata": {
    "nbgrader": {
     "grade": false,
     "grade_id": "cell-9f70242444250249",
     "locked": false,
     "schema_version": 3,
     "solution": true,
     "task": false
    }
   },
   "outputs": [],
   "source": []
  },
  {
   "cell_type": "markdown",
   "metadata": {},
   "source": [
    "Eine weitere hilfreiche Funktion, `type()`, gibt den Datentyp einer Variablen zurück"
   ]
  },
  {
   "cell_type": "code",
   "execution_count": 75,
   "metadata": {
    "nbgrader": {
     "grade": false,
     "grade_id": "cell-91535c9417e4a1ad",
     "locked": true,
     "schema_version": 3,
     "solution": false,
     "task": false
    }
   },
   "outputs": [
    {
     "data": {
      "text/plain": [
       "int"
      ]
     },
     "execution_count": 75,
     "metadata": {},
     "output_type": "execute_result"
    }
   ],
   "source": [
    "type(x)"
   ]
  },
  {
   "cell_type": "markdown",
   "metadata": {},
   "source": [
    "In Sprachen wie Fortran und C geben Sie die Speichergröße an, die ein Integer belegen kann (normalerweise $2$ oder $4$ Bytes). Dies schränkt die maximale darstellbare Integer-Größe ein. Python passt die Größe des Integers an, damit es nicht zu einem *Überlauf* kommt."
   ]
  },
  {
   "cell_type": "code",
   "execution_count": 76,
   "metadata": {
    "nbgrader": {
     "grade": true,
     "grade_id": "cell-f5763a89e34ef078",
     "locked": true,
     "points": 1,
     "schema_version": 3,
     "solution": false,
     "task": false
    }
   },
   "outputs": [
    {
     "name": "stdout",
     "output_type": "stream",
     "text": [
      "12345678901234567890123456789012345123456789012345678901234567890\n",
      "213\n",
      "<class 'int'>\n"
     ]
    }
   ],
   "source": [
    "a = 12345678901234567890123456789012345123456789012345678901234567890\n",
    "print(a)\n",
    "print(a.bit_length())\n",
    "print(type(a))"
   ]
  },
  {
   "cell_type": "markdown",
   "metadata": {},
   "source": [
    "Hinweis: In Python 3 (das wir verwenden) gibt es keinen Unterschied zwischen den Datentypen `int` und `long`, da diese Typen in Python 3 zu einem einzigen int-Typ zusammengeführt wurden. Früher (in Python 2) war `int` für einen begrenzten Wertebereich und `long` für ganze Zahlen beliebiger Größe zuständig, aber jetzt kann ein einzelner 'int'-Typ auch sehr große Zahlen speichern. \n",
    "\n",
    "Der Typ `long` existiert in Python 3 nicht mehr, da seine Funktionalität vollständig in `int` integriert wurde. "
   ]
  },
  {
   "cell_type": "markdown",
   "metadata": {},
   "source": [
    "## Fließkommazahlen \n",
    "\n",
    "Beim Arbeiten mit Gleitkommazahlen und Ganzzahlen wird das Ergebnis in eine Gleitkommazahl umgewandelt.\n",
    "\n",
    "Man erkennt Fließkommazahlen am **Komma** (`.` in Python)."
   ]
  },
  {
   "cell_type": "code",
   "execution_count": 77,
   "metadata": {},
   "outputs": [
    {
     "data": {
      "text/plain": [
       "3.0"
      ]
     },
     "execution_count": 77,
     "metadata": {},
     "output_type": "execute_result"
    }
   ],
   "source": [
    "1. + 2"
   ]
  },
  {
   "cell_type": "markdown",
   "metadata": {},
   "source": [
    "Beachten Sie jedoch den speziellen Ganzzahldivisionsoperator `//`."
   ]
  },
  {
   "cell_type": "code",
   "execution_count": 78,
   "metadata": {},
   "outputs": [
    {
     "data": {
      "text/plain": [
       "0.0"
      ]
     },
     "execution_count": 78,
     "metadata": {},
     "output_type": "execute_result"
    }
   ],
   "source": [
    "1.//2"
   ]
  },
  {
   "cell_type": "markdown",
   "metadata": {},
   "source": [
    "Nicht jede Zahl lässt sich in Gleitkommazahlen darstellen. Da es unendlich viele reelle Zahlen zwischen zwei beliebigen Grenzen gibt, der Speicherplatz aber begrenzt ist, müssen wir auf einem Computer Zahlen approximieren. Es gibt einen IEEE-Standard für Gleitkommazahlen, dem nahezu alle Sprachen und Prozessoren folgen.\n",
    "\n",
    "Das bedeutet zweierlei:\n",
    "\n",
    "* Nicht jede reelle Zahl lässt sich in Gleitkommazahlen exakt darstellen.\n",
    "* Zahlen haben eine begrenzte Genauigkeit – unterhalb dieser verlieren wir den Überblick über Unterschiede (dies wird üblicherweise als Rundungsfehler bezeichnet).\n",
    "\n",
    "Nehmen wir beispielsweise den folgenden Ausdruck:"
   ]
  },
  {
   "cell_type": "code",
   "execution_count": 79,
   "metadata": {},
   "outputs": [
    {
     "data": {
      "text/plain": [
       "-4.440892098500626e-16"
      ]
     },
     "execution_count": 79,
     "metadata": {},
     "output_type": "execute_result"
    }
   ],
   "source": [
    "0.3/0.1 - 3"
   ]
  },
  {
   "cell_type": "markdown",
   "metadata": {},
   "source": [
    "Als weiteres Beispiel: Die Zahl $0,1$ kann auf einem Computer nicht exakt dargestellt werden. In unserem Ausdruck verwenden wir einen Formatbezeichner (den Teil innerhalb der `{}`), um eine genauere Darstellung zu erreichen:"
   ]
  },
  {
   "cell_type": "code",
   "execution_count": 80,
   "metadata": {},
   "outputs": [
    {
     "name": "stdout",
     "output_type": "stream",
     "text": [
      "        0.10000000000000000555\n"
     ]
    }
   ],
   "source": [
    "a = 0.1\n",
    "print(\"{:30.20}\".format(a))"
   ]
  },
  {
   "cell_type": "markdown",
   "metadata": {},
   "source": [
    "Wir können Python nach den die Grenzen für Gleitkommazahlen fragen:"
   ]
  },
  {
   "cell_type": "code",
   "execution_count": 81,
   "metadata": {},
   "outputs": [
    {
     "data": {
      "text/plain": [
       "sys.float_info(max=1.7976931348623157e+308, max_exp=1024, max_10_exp=308, min=2.2250738585072014e-308, min_exp=-1021, min_10_exp=-307, dig=15, mant_dig=53, epsilon=2.220446049250313e-16, radix=2, rounds=1)"
      ]
     },
     "execution_count": 81,
     "metadata": {},
     "output_type": "execute_result"
    }
   ],
   "source": [
    "import sys\n",
    "sys.float_info"
   ]
  },
  {
   "cell_type": "markdown",
   "metadata": {},
   "source": [
    "Dies bedeutet, dass wir nur Zahlen zwischen $2,2250738585072014 \\cdot 10^308$ und $1,7976931348623157 \\cdot 10^308$ speichern können.\n",
    "\n",
    "Wir sehen außerdem, dass die Genauigkeit $2,220446049250313 \\cdot 10^-16$ beträgt (dies wird allgemein als _Maschinen-Epsilon_ bezeichnet). Um dies zu verdeutlichen, addieren wir eine kleine Zahl zu 1,0. Wir verwenden den Gleichheitsoperator (`==`), um zu prüfen, ob zwei Zahlen gleich sind:\n",
    "\n",
    "**Aufgabe:**\n",
    "\n",
    "Definieren Sie zwei Variablen: a = 1 und e = 10^{-16}.\n",
    "\n",
    "Definieren Sie nun eine dritte Variable: b = a + e.\n",
    "\n",
    "Wir können den Python-Operator `==` verwenden, um auf Gleichheit zu prüfen. Was erwarten Sie von `b == a`? Führen Sie den Operator aus und prüfen Sie, ob er mit Ihrer Vermutung übereinstimmt.\n"
   ]
  },
  {
   "cell_type": "code",
   "execution_count": null,
   "metadata": {},
   "outputs": [],
   "source": []
  },
  {
   "cell_type": "markdown",
   "metadata": {},
   "source": [
    "## Module\n",
    "\n",
    "Die Python-Kernsprache wird durch eine Standardbibliothek erweitert, die zusätzliche Funktionen bietet. Diese zusätzlichen Komponenten liegen in Form von Modulen vor, die wir in unsere Python-Sitzung (oder unser Programm) importieren können.\n",
    "\n",
    "Das Modul `math` bietet Funktionen für grundlegende mathematische Operationen und Konstanten (für komplexe Zahlen gibt es ein separates Modul `cmath`).\n",
    "\n",
    "In Python importieren Sie ein Modul. Die Funktionen werden dann in einem separaten Namespace definiert – einem separaten Bereich, der Namen, Variablen usw. definiert. Eine Variable in einem Namespace kann denselben Namen wie eine Variable in einem anderen Namespace haben, ohne dass es zu Konflikten kommt. Verwenden Sie den Operator „`.`“ für den Zugriff auf ein Mitglied eines Namespace.\n",
    "\n",
    "Wenn Sie Daten in den Python-Interpreter, hier im Jupyter-Notebook oder in ein Skript eingeben, befindet sich der Inhalt standardmäßig in einem eigenen Standard-Namespace. Sie müssen keiner der Variablen einen Namespace-Indikator voranstellen."
   ]
  },
  {
   "cell_type": "code",
   "execution_count": 86,
   "metadata": {},
   "outputs": [],
   "source": [
    "import math"
   ]
  },
  {
   "cell_type": "code",
   "execution_count": 87,
   "metadata": {},
   "outputs": [
    {
     "data": {
      "text/plain": [
       "3.141592653589793"
      ]
     },
     "execution_count": 87,
     "metadata": {},
     "output_type": "execute_result"
    }
   ],
   "source": [
    "math.pi"
   ]
  },
  {
   "cell_type": "markdown",
   "metadata": {},
   "source": [
    "Dies unterscheidet sich von jeder Variable `pi`, die wir ggf. selbst definieren."
   ]
  },
  {
   "cell_type": "code",
   "execution_count": 88,
   "metadata": {},
   "outputs": [],
   "source": [
    "pi = 3"
   ]
  },
  {
   "cell_type": "code",
   "execution_count": 89,
   "metadata": {},
   "outputs": [
    {
     "name": "stdout",
     "output_type": "stream",
     "text": [
      "3 3.141592653589793\n"
     ]
    }
   ],
   "source": [
    "print(pi, math.pi)"
   ]
  },
  {
   "cell_type": "markdown",
   "metadata": {},
   "source": [
    "Beachten Sie hier, dass `pi` und `math.pi` sich voneinander unterscheiden – sie befinden sich in unterschiedlichen Namespaces."
   ]
  },
  {
   "cell_type": "markdown",
   "metadata": {},
   "source": [
    "## Gleitkommaoperationen\n",
    "\n",
    "Die gleichen Operatoren, `+`, `-`, `*`, `/` funktionieren wie üblich für Gleitkommazahlen. Um eine Zahl zu potenzieren, verwenden wir den Operator `**` (dies ist dasselbe wie in Fortran)."
   ]
  },
  {
   "cell_type": "code",
   "execution_count": 92,
   "metadata": {},
   "outputs": [],
   "source": [
    "R = 2.0"
   ]
  },
  {
   "cell_type": "code",
   "execution_count": 93,
   "metadata": {},
   "outputs": [
    {
     "data": {
      "text/plain": [
       "12.566370614359172"
      ]
     },
     "execution_count": 93,
     "metadata": {},
     "output_type": "execute_result"
    }
   ],
   "source": [
    "math.pi * R**2"
   ]
  },
  {
   "cell_type": "markdown",
   "metadata": {},
   "source": [
    "Die Operatorpriorität entspricht der der meisten Sprachen. Siehe\n",
    "\n",
    "https://docs.python.org/3/reference/expressions.html#operator-precedence\n",
    "\n",
    "In der Reihenfolge der Priorität:\n",
    "* Alles in `()` - Klammern können natürlich verwendet werden, um die Priorität zu überschreiben.\n",
    "* Slicing, Aufrufe, Indizes\n",
    "* Potenzierung (`**`)\n",
    "* `+x`, `-x`, `~x`\n",
    "* `*`, `@`, `/`, `//`, `%`\n",
    "* `+`, `-`\n",
    "\n",
    "(Danach folgen bitweise Operationen und Vergleiche.)"
   ]
  },
  {
   "cell_type": "markdown",
   "metadata": {},
   "source": [
    "**Augfabe**\n",
    "\n",
    "Betrachten Sie die folgenden Ausdrücke. Überlegen Sie anhand der Prioritäten, welcher Wert sich ergibt, und probieren Sie ihn anschließend in der Zelle unten aus, um zu sehen, ob Sie richtig lagen.\n",
    "\n",
    "* `1 + 3*2**2`\n",
    "* `1 + (3*2)**2`\n",
    "* `2**3**2`"
   ]
  },
  {
   "cell_type": "code",
   "execution_count": null,
   "metadata": {},
   "outputs": [],
   "source": [
    "## Your code here"
   ]
  },
  {
   "cell_type": "markdown",
   "metadata": {},
   "source": [
    "Das Mathematikmodul bietet viele der gängigen mathematischen Funktionen, die wir möglicherweise verwenden möchten.\n",
    "\n",
    "Für die trigonometrischen Funktionen wird erwartet, dass das Funktionsargument in Radianten angegeben wird. Mit `math.radians()` können Sie Grad ins Radianmaß umrechnen, z. B.:"
   ]
  },
  {
   "cell_type": "code",
   "execution_count": 94,
   "metadata": {},
   "outputs": [
    {
     "data": {
      "text/plain": [
       "0.7071067811865476"
      ]
     },
     "execution_count": 94,
     "metadata": {},
     "output_type": "execute_result"
    }
   ],
   "source": [
    "math.cos(math.radians(45))"
   ]
  },
  {
   "cell_type": "markdown",
   "metadata": {},
   "source": [
    "Beachten Sie, dass wir in dieser Anweisung die Ausgabe einer Funktion (`math.radians()`) in eine zweite Funktion (`math.cos()`) *einspeisen*.\n",
    "\n",
    "Im Zweifelsfall finden Sie hier Hilfe zum Entdecken aller Funktionen eines Moduls:"
   ]
  },
  {
   "cell_type": "code",
   "execution_count": 95,
   "metadata": {},
   "outputs": [
    {
     "name": "stdout",
     "output_type": "stream",
     "text": [
      "Help on built-in function sin in module math:\n",
      "\n",
      "sin(x, /)\n",
      "    Return the sine of x (measured in radians).\n",
      "\n"
     ]
    }
   ],
   "source": [
    "help(math.sin)\n"
   ]
  },
  {
   "cell_type": "markdown",
   "metadata": {},
   "source": [
    "## Zeichenketten (strings)\n",
    "\n",
    "Python ist es egal, ob Sie einfache oder doppelte Anführungszeichen für Zeichenfolgen verwenden:"
   ]
  },
  {
   "cell_type": "code",
   "execution_count": 96,
   "metadata": {},
   "outputs": [],
   "source": [
    "a = \"this is my string\"\n",
    "b = 'another string'"
   ]
  },
  {
   "cell_type": "code",
   "execution_count": 97,
   "metadata": {},
   "outputs": [
    {
     "name": "stdout",
     "output_type": "stream",
     "text": [
      "this is my string\n",
      "another string\n"
     ]
    }
   ],
   "source": [
    "print(a)\n",
    "print(b)"
   ]
  },
  {
   "cell_type": "markdown",
   "metadata": {},
   "source": [
    "Many of the usual mathematical operators are defined for strings as well.  For example to concatenate or duplicate:"
   ]
  },
  {
   "cell_type": "code",
   "execution_count": 98,
   "metadata": {},
   "outputs": [
    {
     "data": {
      "text/plain": [
       "'this is my stringanother string'"
      ]
     },
     "execution_count": 98,
     "metadata": {},
     "output_type": "execute_result"
    }
   ],
   "source": [
    "a + b"
   ]
  },
  {
   "cell_type": "code",
   "execution_count": 99,
   "metadata": {},
   "outputs": [
    {
     "data": {
      "text/plain": [
       "'this is my string. another string'"
      ]
     },
     "execution_count": 99,
     "metadata": {},
     "output_type": "execute_result"
    }
   ],
   "source": [
    "a + \". \" + b"
   ]
  },
  {
   "cell_type": "code",
   "execution_count": 100,
   "metadata": {},
   "outputs": [
    {
     "data": {
      "text/plain": [
       "'this is my stringthis is my string'"
      ]
     },
     "execution_count": 100,
     "metadata": {},
     "output_type": "execute_result"
    }
   ],
   "source": [
    "a * 2"
   ]
  },
  {
   "cell_type": "markdown",
   "metadata": {},
   "source": [
    "Es gibt verschiedene Escape-Codes, die in Zeichenfolgen interpretiert werden. Diese beginnen mit einem Backslash, `\\`. Beispielsweise können Sie `\\n` für eine neue Zeile verwenden."
   ]
  },
  {
   "cell_type": "code",
   "execution_count": 101,
   "metadata": {},
   "outputs": [
    {
     "name": "stdout",
     "output_type": "stream",
     "text": [
      "this is my string\n",
      "this is my string\n"
     ]
    }
   ],
   "source": [
    "a = a + \"\\n\" + a \n",
    "print(a)"
   ]
  },
  {
   "cell_type": "markdown",
   "metadata": {},
   "source": [
    "**Aufgabe**\n",
    "\n",
    "Mit der Funktion `input()` können Sie den Benutzer um Eingaben bitten.\n",
    "\n",
    "* Verwenden Sie `help(input)`, um die Funktionsweise zu testen.\n",
    "* Schreiben Sie Code, um Eingaben anzufordern und das Ergebnis in einer Variable zu speichern. `input()` gibt einen String zurück.\n",
    "\n",
    "* Verwenden Sie die Funktion `float()`, um eine eingegebene Zahl in eine Gleitkommavariable umzuwandeln.\n",
    "* Überprüfen Sie mit der Funktion `type()`, ob die Konvertierung funktioniert hat."
   ]
  },
  {
   "cell_type": "code",
   "execution_count": null,
   "metadata": {},
   "outputs": [],
   "source": [
    "## Your code here ##"
   ]
  },
  {
   "cell_type": "markdown",
   "metadata": {},
   "source": [
    "\"\"\" kann mehrzeilige Zeichenfolgen einschließen. Dies ist nützlich für Docstrings am Anfang von Funktionen (mehr dazu später...)"
   ]
  },
  {
   "cell_type": "code",
   "execution_count": 102,
   "metadata": {},
   "outputs": [],
   "source": [
    "c = \"\"\"\n",
    "Lorem ipsum dolor sit amet, consectetur adipisicing elit, sed do eiusmod tempor \n",
    "incididunt ut labore et dolore magna aliqua. Ut enim ad minim veniam, quis \n",
    "nostrud exercitation ullamco laboris nisi ut aliquip ex ea commodo consequat. \n",
    "Duis aute irure dolor in reprehenderit in voluptate velit esse cillum dolore \n",
    "eu fugiat nulla pariatur. Excepteur sint occaecat cupidatat non proident, sunt \n",
    "in culpa qui officia deserunt mollit anim id est laborum.\"\"\""
   ]
  },
  {
   "cell_type": "code",
   "execution_count": 103,
   "metadata": {},
   "outputs": [
    {
     "name": "stdout",
     "output_type": "stream",
     "text": [
      "\n",
      "Lorem ipsum dolor sit amet, consectetur adipisicing elit, sed do eiusmod tempor \n",
      "incididunt ut labore et dolore magna aliqua. Ut enim ad minim veniam, quis \n",
      "nostrud exercitation ullamco laboris nisi ut aliquip ex ea commodo consequat. \n",
      "Duis aute irure dolor in reprehenderit in voluptate velit esse cillum dolore \n",
      "eu fugiat nulla pariatur. Excepteur sint occaecat cupidatat non proident, sunt \n",
      "in culpa qui officia deserunt mollit anim id est laborum.\n"
     ]
    }
   ],
   "source": [
    "print(c)"
   ]
  },
  {
   "cell_type": "markdown",
   "metadata": {},
   "source": [
    "Ein **Raw-String** ersetzt keine Escape-Sequenzen (wie `\\n`). Setzen Sie einfach ein `r` vor das erste Anführungszeichen:"
   ]
  },
  {
   "cell_type": "code",
   "execution_count": 104,
   "metadata": {},
   "outputs": [
    {
     "data": {
      "text/plain": [
       "'this is a raw string\\\\n'"
      ]
     },
     "execution_count": 104,
     "metadata": {},
     "output_type": "execute_result"
    }
   ],
   "source": [
    "d = r\"this is a raw string\\n\"\n",
    "d"
   ]
  },
  {
   "cell_type": "markdown",
   "metadata": {},
   "source": [
    "**Slicing** dient dem Zugriff auf einen Teil eines Strings.\n",
    "\n",
    "Für Fortran-Anfänger mag das Slicing eines Strings etwas kontraintuitiv erscheinen. Der Trick besteht darin, sich den Index als die linke Kante eines Zeichens im String vorzustellen. Dasselbe gilt auch für spätere Arrays.\n",
    "\n",
    "Beachten Sie außerdem, dass Python (wie C) eine $0$-basierte Indizierung verwendet.\n",
    "\n",
    "Negative Indizes zählen von rechts."
   ]
  },
  {
   "cell_type": "code",
   "execution_count": 105,
   "metadata": {},
   "outputs": [
    {
     "name": "stdout",
     "output_type": "stream",
     "text": [
      "this is my string\n",
      "is\n",
      "t\n",
      "this is a raw string\\n\n",
      "\\\n"
     ]
    }
   ],
   "source": [
    "a = \"this is my string\"\n",
    "print(a)\n",
    "print(a[5:7])\n",
    "print(a[0])\n",
    "print(d)\n",
    "print(d[-2])"
   ]
  },
  {
   "cell_type": "markdown",
   "metadata": {},
   "source": [
    "**Aufgabe**\n",
    "\n",
    "Strings verfügen über zahlreiche Methoden (Funktionen, die mit einem bestimmten Datentyp, in diesem Fall Strings, umgehen können). Eine nützliche Methode ist `.find()`. Für den String `a` gibt `a.find(s)` den Index des ersten Vorkommens von `s` zurück.\n",
    "\n",
    "Für den String `c` oben suchen wir den ersten `.` (identifizieren den ersten vollständigen Satz) und geben mit diesem Ergebnis nur den ersten Satz in `c` aus.\n"
   ]
  },
  {
   "cell_type": "code",
   "execution_count": null,
   "metadata": {},
   "outputs": [],
   "source": [
    "## Your code here ##"
   ]
  },
  {
   "cell_type": "markdown",
   "metadata": {},
   "source": [
    "Es gibt auch eine Reihe von Methoden und Funktionen, die mit Zeichenfolgen arbeiten. Hier sind einige Beispiele:"
   ]
  },
  {
   "cell_type": "code",
   "execution_count": 106,
   "metadata": {},
   "outputs": [
    {
     "name": "stdout",
     "output_type": "stream",
     "text": [
      "that is my string\n",
      "17\n",
      "this is my string\n",
      "g\n"
     ]
    }
   ],
   "source": [
    "print(a.replace(\"this\", \"that\"))\n",
    "print(len(a))\n",
    "print(a.strip())    # Also notice that strip removes the \\n\n",
    "print(a.strip()[-1])"
   ]
  },
  {
   "cell_type": "markdown",
   "metadata": {},
   "source": [
    "Beachten Sie, dass sich unsere ursprüngliche Zeichenfolge `a` nicht geändert hat. In Python sind Zeichenfolgen *unveränderlich*. Operationen an Zeichenfolgen geben eine neue Zeichenfolge zurück."
   ]
  },
  {
   "cell_type": "code",
   "execution_count": 107,
   "metadata": {},
   "outputs": [
    {
     "data": {
      "text/plain": [
       "'this is my string'"
      ]
     },
     "execution_count": 107,
     "metadata": {},
     "output_type": "execute_result"
    }
   ],
   "source": [
    "a"
   ]
  },
  {
   "cell_type": "code",
   "execution_count": 108,
   "metadata": {},
   "outputs": [
    {
     "data": {
      "text/plain": [
       "str"
      ]
     },
     "execution_count": 108,
     "metadata": {},
     "output_type": "execute_result"
    }
   ],
   "source": [
    "type(a)"
   ]
  },
  {
   "cell_type": "markdown",
   "metadata": {},
   "source": [
    "Wir können beim Drucken Zeichenfolgen formatieren, um Mengen an bestimmten Stellen in der Zeichenfolge einzufügen. Ein `{}` dient als Platzhalter für eine Menge und wird mit der Methode `.format()` ersetzt:"
   ]
  },
  {
   "cell_type": "code",
   "execution_count": 109,
   "metadata": {},
   "outputs": [
    {
     "name": "stdout",
     "output_type": "stream",
     "text": [
      "a = 1; b = 2.0; c = test\n"
     ]
    }
   ],
   "source": [
    "a = 1\n",
    "b = 2.0\n",
    "c = \"test\"\n",
    "print(\"a = {}; b = {}; c = {}\".format(a, b, c))"
   ]
  },
  {
   "cell_type": "markdown",
   "metadata": {},
   "source": [
    "Aber die modernere Art, dies zu tun, ist die Verwendung von *f-strings*. (Beachten Sie das `f` vor dem einleitenden `\"`)"
   ]
  },
  {
   "cell_type": "code",
   "execution_count": 110,
   "metadata": {},
   "outputs": [
    {
     "name": "stdout",
     "output_type": "stream",
     "text": [
      "a = 1; b = 2.0; c = test\n"
     ]
    }
   ],
   "source": [
    "print(f\"a = {a}; b = {b}; c = {c}\")"
   ]
  },
  {
   "cell_type": "markdown",
   "metadata": {},
   "source": [
    "Hier noch zwei weitere Möglichkeiten (Es bleibt Ihnen überlassen, Ihren **Favoriten** zu finden):"
   ]
  },
  {
   "cell_type": "code",
   "execution_count": 112,
   "metadata": {},
   "outputs": [
    {
     "name": "stdout",
     "output_type": "stream",
     "text": [
      "a = 1 ; b = 2.0 ; c = test\n"
     ]
    }
   ],
   "source": [
    "print(\"a =\" ,  a, \"; b =\", b, \"; c =\", c)"
   ]
  },
  {
   "cell_type": "code",
   "execution_count": 114,
   "metadata": {},
   "outputs": [
    {
     "name": "stdout",
     "output_type": "stream",
     "text": [
      "a = 1; b = 2.0; c = test\n"
     ]
    }
   ],
   "source": [
    "print(\"a = \" + str(a) + \"; b = \" + str(b) + \"; c = \" + str(c))"
   ]
  },
  {
   "cell_type": "markdown",
   "metadata": {},
   "source": [
    "## Credits\n",
    "\n",
    "Beiträge zu diesem Notebook: Diese Notebook basiert auf dem Gooele Notebook [Data Types](https://colab.research.google.com/github/sbu-python-class/python-science/blob/main/content/01-python/w1-python-datatypes.ipynb#scrollTo=GyPq679SKgY6), Anpassung und Erweiterung: [Stefan Goetze](https://github.com/Stefan-Goe)"
   ]
  }
 ],
 "metadata": {
  "celltoolbar": "Create Assignment",
  "kernelspec": {
   "display_name": "base",
   "language": "python",
   "name": "python3"
  },
  "language_info": {
   "codemirror_mode": {
    "name": "ipython",
    "version": 3
   },
   "file_extension": ".py",
   "mimetype": "text/x-python",
   "name": "python",
   "nbconvert_exporter": "python",
   "pygments_lexer": "ipython3",
   "version": "3.12.2"
  }
 },
 "nbformat": 4,
 "nbformat_minor": 4
}
